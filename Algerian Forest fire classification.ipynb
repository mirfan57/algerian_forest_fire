{
 "cells": [
  {
   "cell_type": "markdown",
   "id": "79d94e82",
   "metadata": {},
   "source": [
    "### Importing the required libraries"
   ]
  },
  {
   "cell_type": "raw",
   "id": "f1f10fc0",
   "metadata": {},
   "source": [
    "for colab link\n",
    "<a href=\"https://colab.research.google.com/github/ashishrana1501/Forest-Fire-Prediction/blob/master/Algerian_Forest_Fires.ipynb\" target=\"_parent\"><img src=\"https://colab.research.google.com/assets/colab-badge.svg\" alt=\"Open In Colab\"/></a>"
   ]
  },
  {
   "cell_type": "code",
   "execution_count": 2,
   "id": "8bb6db90",
   "metadata": {},
   "outputs": [],
   "source": [
    "import numpy as np\n",
    "import pandas as pd\n",
    "import seaborn as sns\n",
    "import matplotlib.pyplot as plt\n",
    "import warnings\n",
    "warnings.filterwarnings('ignore')\n",
    "\n",
    "%matplotlib inline"
   ]
  },
  {
   "cell_type": "markdown",
   "id": "5228f323",
   "metadata": {},
   "source": [
    "### Loading Cleaned Dataset"
   ]
  },
  {
   "cell_type": "code",
   "execution_count": 3,
   "id": "4456603d",
   "metadata": {},
   "outputs": [],
   "source": [
    "df = pd.read_csv('Algerian forest fire_cleaned.csv')"
   ]
  },
  {
   "cell_type": "code",
   "execution_count": 4,
   "id": "cfc0ada2",
   "metadata": {
    "scrolled": true
   },
   "outputs": [
    {
     "data": {
      "text/html": [
       "<div>\n",
       "<style scoped>\n",
       "    .dataframe tbody tr th:only-of-type {\n",
       "        vertical-align: middle;\n",
       "    }\n",
       "\n",
       "    .dataframe tbody tr th {\n",
       "        vertical-align: top;\n",
       "    }\n",
       "\n",
       "    .dataframe thead th {\n",
       "        text-align: right;\n",
       "    }\n",
       "</style>\n",
       "<table border=\"1\" class=\"dataframe\">\n",
       "  <thead>\n",
       "    <tr style=\"text-align: right;\">\n",
       "      <th></th>\n",
       "      <th>day</th>\n",
       "      <th>month</th>\n",
       "      <th>year</th>\n",
       "      <th>Temperature</th>\n",
       "      <th>RH</th>\n",
       "      <th>Ws</th>\n",
       "      <th>Rain</th>\n",
       "      <th>FFMC</th>\n",
       "      <th>DMC</th>\n",
       "      <th>DC</th>\n",
       "      <th>ISI</th>\n",
       "      <th>BUI</th>\n",
       "      <th>FWI</th>\n",
       "      <th>Classes</th>\n",
       "      <th>Region</th>\n",
       "    </tr>\n",
       "  </thead>\n",
       "  <tbody>\n",
       "    <tr>\n",
       "      <th>0</th>\n",
       "      <td>1</td>\n",
       "      <td>6</td>\n",
       "      <td>2012</td>\n",
       "      <td>29</td>\n",
       "      <td>57</td>\n",
       "      <td>18</td>\n",
       "      <td>0.0</td>\n",
       "      <td>65.7</td>\n",
       "      <td>3.4</td>\n",
       "      <td>7.6</td>\n",
       "      <td>1.3</td>\n",
       "      <td>3.4</td>\n",
       "      <td>0.5</td>\n",
       "      <td>not fire</td>\n",
       "      <td>0</td>\n",
       "    </tr>\n",
       "    <tr>\n",
       "      <th>1</th>\n",
       "      <td>2</td>\n",
       "      <td>6</td>\n",
       "      <td>2012</td>\n",
       "      <td>29</td>\n",
       "      <td>61</td>\n",
       "      <td>13</td>\n",
       "      <td>1.3</td>\n",
       "      <td>64.4</td>\n",
       "      <td>4.1</td>\n",
       "      <td>7.6</td>\n",
       "      <td>1.0</td>\n",
       "      <td>3.9</td>\n",
       "      <td>0.4</td>\n",
       "      <td>not fire</td>\n",
       "      <td>0</td>\n",
       "    </tr>\n",
       "    <tr>\n",
       "      <th>2</th>\n",
       "      <td>3</td>\n",
       "      <td>6</td>\n",
       "      <td>2012</td>\n",
       "      <td>26</td>\n",
       "      <td>82</td>\n",
       "      <td>22</td>\n",
       "      <td>13.1</td>\n",
       "      <td>47.1</td>\n",
       "      <td>2.5</td>\n",
       "      <td>7.1</td>\n",
       "      <td>0.3</td>\n",
       "      <td>2.7</td>\n",
       "      <td>0.1</td>\n",
       "      <td>not fire</td>\n",
       "      <td>0</td>\n",
       "    </tr>\n",
       "    <tr>\n",
       "      <th>3</th>\n",
       "      <td>4</td>\n",
       "      <td>6</td>\n",
       "      <td>2012</td>\n",
       "      <td>25</td>\n",
       "      <td>89</td>\n",
       "      <td>13</td>\n",
       "      <td>2.5</td>\n",
       "      <td>28.6</td>\n",
       "      <td>1.3</td>\n",
       "      <td>6.9</td>\n",
       "      <td>0.0</td>\n",
       "      <td>1.7</td>\n",
       "      <td>0.0</td>\n",
       "      <td>not fire</td>\n",
       "      <td>0</td>\n",
       "    </tr>\n",
       "    <tr>\n",
       "      <th>4</th>\n",
       "      <td>5</td>\n",
       "      <td>6</td>\n",
       "      <td>2012</td>\n",
       "      <td>27</td>\n",
       "      <td>77</td>\n",
       "      <td>16</td>\n",
       "      <td>0.0</td>\n",
       "      <td>64.8</td>\n",
       "      <td>3.0</td>\n",
       "      <td>14.2</td>\n",
       "      <td>1.2</td>\n",
       "      <td>3.9</td>\n",
       "      <td>0.5</td>\n",
       "      <td>not fire</td>\n",
       "      <td>0</td>\n",
       "    </tr>\n",
       "    <tr>\n",
       "      <th>...</th>\n",
       "      <td>...</td>\n",
       "      <td>...</td>\n",
       "      <td>...</td>\n",
       "      <td>...</td>\n",
       "      <td>...</td>\n",
       "      <td>...</td>\n",
       "      <td>...</td>\n",
       "      <td>...</td>\n",
       "      <td>...</td>\n",
       "      <td>...</td>\n",
       "      <td>...</td>\n",
       "      <td>...</td>\n",
       "      <td>...</td>\n",
       "      <td>...</td>\n",
       "      <td>...</td>\n",
       "    </tr>\n",
       "    <tr>\n",
       "      <th>239</th>\n",
       "      <td>26</td>\n",
       "      <td>9</td>\n",
       "      <td>2012</td>\n",
       "      <td>30</td>\n",
       "      <td>65</td>\n",
       "      <td>14</td>\n",
       "      <td>0.0</td>\n",
       "      <td>85.4</td>\n",
       "      <td>16.0</td>\n",
       "      <td>44.5</td>\n",
       "      <td>4.5</td>\n",
       "      <td>16.9</td>\n",
       "      <td>6.5</td>\n",
       "      <td>fire</td>\n",
       "      <td>1</td>\n",
       "    </tr>\n",
       "    <tr>\n",
       "      <th>240</th>\n",
       "      <td>27</td>\n",
       "      <td>9</td>\n",
       "      <td>2012</td>\n",
       "      <td>28</td>\n",
       "      <td>87</td>\n",
       "      <td>15</td>\n",
       "      <td>4.4</td>\n",
       "      <td>41.1</td>\n",
       "      <td>6.5</td>\n",
       "      <td>8.0</td>\n",
       "      <td>0.1</td>\n",
       "      <td>6.2</td>\n",
       "      <td>0.0</td>\n",
       "      <td>not fire</td>\n",
       "      <td>1</td>\n",
       "    </tr>\n",
       "    <tr>\n",
       "      <th>241</th>\n",
       "      <td>28</td>\n",
       "      <td>9</td>\n",
       "      <td>2012</td>\n",
       "      <td>27</td>\n",
       "      <td>87</td>\n",
       "      <td>29</td>\n",
       "      <td>0.5</td>\n",
       "      <td>45.9</td>\n",
       "      <td>3.5</td>\n",
       "      <td>7.9</td>\n",
       "      <td>0.4</td>\n",
       "      <td>3.4</td>\n",
       "      <td>0.2</td>\n",
       "      <td>not fire</td>\n",
       "      <td>1</td>\n",
       "    </tr>\n",
       "    <tr>\n",
       "      <th>242</th>\n",
       "      <td>29</td>\n",
       "      <td>9</td>\n",
       "      <td>2012</td>\n",
       "      <td>24</td>\n",
       "      <td>54</td>\n",
       "      <td>18</td>\n",
       "      <td>0.1</td>\n",
       "      <td>79.7</td>\n",
       "      <td>4.3</td>\n",
       "      <td>15.2</td>\n",
       "      <td>1.7</td>\n",
       "      <td>5.1</td>\n",
       "      <td>0.7</td>\n",
       "      <td>not fire</td>\n",
       "      <td>1</td>\n",
       "    </tr>\n",
       "    <tr>\n",
       "      <th>243</th>\n",
       "      <td>30</td>\n",
       "      <td>9</td>\n",
       "      <td>2012</td>\n",
       "      <td>24</td>\n",
       "      <td>64</td>\n",
       "      <td>15</td>\n",
       "      <td>0.2</td>\n",
       "      <td>67.3</td>\n",
       "      <td>3.8</td>\n",
       "      <td>16.5</td>\n",
       "      <td>1.2</td>\n",
       "      <td>4.8</td>\n",
       "      <td>0.5</td>\n",
       "      <td>not fire</td>\n",
       "      <td>1</td>\n",
       "    </tr>\n",
       "  </tbody>\n",
       "</table>\n",
       "<p>244 rows × 15 columns</p>\n",
       "</div>"
      ],
      "text/plain": [
       "     day  month  year  Temperature  RH  Ws  Rain  FFMC   DMC    DC  ISI   BUI  \\\n",
       "0      1      6  2012           29  57  18   0.0  65.7   3.4   7.6  1.3   3.4   \n",
       "1      2      6  2012           29  61  13   1.3  64.4   4.1   7.6  1.0   3.9   \n",
       "2      3      6  2012           26  82  22  13.1  47.1   2.5   7.1  0.3   2.7   \n",
       "3      4      6  2012           25  89  13   2.5  28.6   1.3   6.9  0.0   1.7   \n",
       "4      5      6  2012           27  77  16   0.0  64.8   3.0  14.2  1.2   3.9   \n",
       "..   ...    ...   ...          ...  ..  ..   ...   ...   ...   ...  ...   ...   \n",
       "239   26      9  2012           30  65  14   0.0  85.4  16.0  44.5  4.5  16.9   \n",
       "240   27      9  2012           28  87  15   4.4  41.1   6.5   8.0  0.1   6.2   \n",
       "241   28      9  2012           27  87  29   0.5  45.9   3.5   7.9  0.4   3.4   \n",
       "242   29      9  2012           24  54  18   0.1  79.7   4.3  15.2  1.7   5.1   \n",
       "243   30      9  2012           24  64  15   0.2  67.3   3.8  16.5  1.2   4.8   \n",
       "\n",
       "     FWI   Classes  Region  \n",
       "0    0.5  not fire       0  \n",
       "1    0.4  not fire       0  \n",
       "2    0.1  not fire       0  \n",
       "3    0.0  not fire       0  \n",
       "4    0.5  not fire       0  \n",
       "..   ...       ...     ...  \n",
       "239  6.5      fire       1  \n",
       "240  0.0  not fire       1  \n",
       "241  0.2  not fire       1  \n",
       "242  0.7  not fire       1  \n",
       "243  0.5  not fire       1  \n",
       "\n",
       "[244 rows x 15 columns]"
      ]
     },
     "execution_count": 4,
     "metadata": {},
     "output_type": "execute_result"
    }
   ],
   "source": [
    "df"
   ]
  },
  {
   "cell_type": "code",
   "execution_count": 5,
   "id": "1995f125",
   "metadata": {},
   "outputs": [],
   "source": [
    "df['Classes'] = df['Classes'].replace({'not fire':0, 'fire':1})"
   ]
  },
  {
   "cell_type": "markdown",
   "id": "2a6c433c",
   "metadata": {},
   "source": [
    "#### Feature and target columns"
   ]
  },
  {
   "cell_type": "code",
   "execution_count": 6,
   "id": "78371eb0",
   "metadata": {},
   "outputs": [],
   "source": [
    "x = df.drop(columns=['Classes'])\n",
    "y = df.Classes"
   ]
  },
  {
   "cell_type": "code",
   "execution_count": 7,
   "id": "e95d2142",
   "metadata": {},
   "outputs": [
    {
     "data": {
      "text/html": [
       "<div>\n",
       "<style scoped>\n",
       "    .dataframe tbody tr th:only-of-type {\n",
       "        vertical-align: middle;\n",
       "    }\n",
       "\n",
       "    .dataframe tbody tr th {\n",
       "        vertical-align: top;\n",
       "    }\n",
       "\n",
       "    .dataframe thead th {\n",
       "        text-align: right;\n",
       "    }\n",
       "</style>\n",
       "<table border=\"1\" class=\"dataframe\">\n",
       "  <thead>\n",
       "    <tr style=\"text-align: right;\">\n",
       "      <th></th>\n",
       "      <th>day</th>\n",
       "      <th>month</th>\n",
       "      <th>year</th>\n",
       "      <th>Temperature</th>\n",
       "      <th>RH</th>\n",
       "      <th>Ws</th>\n",
       "      <th>Rain</th>\n",
       "      <th>FFMC</th>\n",
       "      <th>DMC</th>\n",
       "      <th>DC</th>\n",
       "      <th>ISI</th>\n",
       "      <th>BUI</th>\n",
       "      <th>FWI</th>\n",
       "      <th>Region</th>\n",
       "    </tr>\n",
       "  </thead>\n",
       "  <tbody>\n",
       "    <tr>\n",
       "      <th>0</th>\n",
       "      <td>1</td>\n",
       "      <td>6</td>\n",
       "      <td>2012</td>\n",
       "      <td>29</td>\n",
       "      <td>57</td>\n",
       "      <td>18</td>\n",
       "      <td>0.0</td>\n",
       "      <td>65.7</td>\n",
       "      <td>3.4</td>\n",
       "      <td>7.6</td>\n",
       "      <td>1.3</td>\n",
       "      <td>3.4</td>\n",
       "      <td>0.5</td>\n",
       "      <td>0</td>\n",
       "    </tr>\n",
       "    <tr>\n",
       "      <th>1</th>\n",
       "      <td>2</td>\n",
       "      <td>6</td>\n",
       "      <td>2012</td>\n",
       "      <td>29</td>\n",
       "      <td>61</td>\n",
       "      <td>13</td>\n",
       "      <td>1.3</td>\n",
       "      <td>64.4</td>\n",
       "      <td>4.1</td>\n",
       "      <td>7.6</td>\n",
       "      <td>1.0</td>\n",
       "      <td>3.9</td>\n",
       "      <td>0.4</td>\n",
       "      <td>0</td>\n",
       "    </tr>\n",
       "    <tr>\n",
       "      <th>2</th>\n",
       "      <td>3</td>\n",
       "      <td>6</td>\n",
       "      <td>2012</td>\n",
       "      <td>26</td>\n",
       "      <td>82</td>\n",
       "      <td>22</td>\n",
       "      <td>13.1</td>\n",
       "      <td>47.1</td>\n",
       "      <td>2.5</td>\n",
       "      <td>7.1</td>\n",
       "      <td>0.3</td>\n",
       "      <td>2.7</td>\n",
       "      <td>0.1</td>\n",
       "      <td>0</td>\n",
       "    </tr>\n",
       "    <tr>\n",
       "      <th>3</th>\n",
       "      <td>4</td>\n",
       "      <td>6</td>\n",
       "      <td>2012</td>\n",
       "      <td>25</td>\n",
       "      <td>89</td>\n",
       "      <td>13</td>\n",
       "      <td>2.5</td>\n",
       "      <td>28.6</td>\n",
       "      <td>1.3</td>\n",
       "      <td>6.9</td>\n",
       "      <td>0.0</td>\n",
       "      <td>1.7</td>\n",
       "      <td>0.0</td>\n",
       "      <td>0</td>\n",
       "    </tr>\n",
       "    <tr>\n",
       "      <th>4</th>\n",
       "      <td>5</td>\n",
       "      <td>6</td>\n",
       "      <td>2012</td>\n",
       "      <td>27</td>\n",
       "      <td>77</td>\n",
       "      <td>16</td>\n",
       "      <td>0.0</td>\n",
       "      <td>64.8</td>\n",
       "      <td>3.0</td>\n",
       "      <td>14.2</td>\n",
       "      <td>1.2</td>\n",
       "      <td>3.9</td>\n",
       "      <td>0.5</td>\n",
       "      <td>0</td>\n",
       "    </tr>\n",
       "  </tbody>\n",
       "</table>\n",
       "</div>"
      ],
      "text/plain": [
       "   day  month  year  Temperature  RH  Ws  Rain  FFMC  DMC    DC  ISI  BUI  \\\n",
       "0    1      6  2012           29  57  18   0.0  65.7  3.4   7.6  1.3  3.4   \n",
       "1    2      6  2012           29  61  13   1.3  64.4  4.1   7.6  1.0  3.9   \n",
       "2    3      6  2012           26  82  22  13.1  47.1  2.5   7.1  0.3  2.7   \n",
       "3    4      6  2012           25  89  13   2.5  28.6  1.3   6.9  0.0  1.7   \n",
       "4    5      6  2012           27  77  16   0.0  64.8  3.0  14.2  1.2  3.9   \n",
       "\n",
       "   FWI  Region  \n",
       "0  0.5       0  \n",
       "1  0.4       0  \n",
       "2  0.1       0  \n",
       "3  0.0       0  \n",
       "4  0.5       0  "
      ]
     },
     "execution_count": 7,
     "metadata": {},
     "output_type": "execute_result"
    }
   ],
   "source": [
    "x.head()"
   ]
  },
  {
   "cell_type": "code",
   "execution_count": 8,
   "id": "6ea955a4",
   "metadata": {},
   "outputs": [
    {
     "data": {
      "text/plain": [
       "0      0\n",
       "1      0\n",
       "2      0\n",
       "3      0\n",
       "4      0\n",
       "      ..\n",
       "239    1\n",
       "240    0\n",
       "241    0\n",
       "242    0\n",
       "243    0\n",
       "Name: Classes, Length: 244, dtype: int64"
      ]
     },
     "execution_count": 8,
     "metadata": {},
     "output_type": "execute_result"
    }
   ],
   "source": [
    "y"
   ]
  },
  {
   "cell_type": "markdown",
   "id": "78e7e253",
   "metadata": {},
   "source": [
    "### Check for multicolinearity using VIF and correlation matrix"
   ]
  },
  {
   "cell_type": "code",
   "execution_count": 9,
   "id": "8531689b",
   "metadata": {},
   "outputs": [],
   "source": [
    "from statsmodels.stats.outliers_influence import variance_inflation_factor\n",
    "from sklearn.preprocessing import StandardScaler\n",
    "\n",
    "def vif_score(df):\n",
    "    #scaler = StandardScaler()\n",
    "    #df_arr = scaler.fit_transform(df)\n",
    "    df_vif = pd.DataFrame()\n",
    "    df_vif['Feature'] = df.columns\n",
    "    df_vif['VIF'] = [variance_inflation_factor(df.values,i) for i in range(len(df.columns))]\n",
    "    #df_vif['VIF'] = [variance_inflation_factor(df_arr,i) for i in range(df_arr.shape[1])]\n",
    "    return df_vif"
   ]
  },
  {
   "cell_type": "code",
   "execution_count": 10,
   "id": "1e595b23",
   "metadata": {},
   "outputs": [
    {
     "data": {
      "text/html": [
       "<div>\n",
       "<style scoped>\n",
       "    .dataframe tbody tr th:only-of-type {\n",
       "        vertical-align: middle;\n",
       "    }\n",
       "\n",
       "    .dataframe tbody tr th {\n",
       "        vertical-align: top;\n",
       "    }\n",
       "\n",
       "    .dataframe thead th {\n",
       "        text-align: right;\n",
       "    }\n",
       "</style>\n",
       "<table border=\"1\" class=\"dataframe\">\n",
       "  <thead>\n",
       "    <tr style=\"text-align: right;\">\n",
       "      <th></th>\n",
       "      <th>Feature</th>\n",
       "      <th>VIF</th>\n",
       "    </tr>\n",
       "  </thead>\n",
       "  <tbody>\n",
       "    <tr>\n",
       "      <th>0</th>\n",
       "      <td>day</td>\n",
       "      <td>1.488840</td>\n",
       "    </tr>\n",
       "    <tr>\n",
       "      <th>1</th>\n",
       "      <td>month</td>\n",
       "      <td>1.093791</td>\n",
       "    </tr>\n",
       "    <tr>\n",
       "      <th>2</th>\n",
       "      <td>year</td>\n",
       "      <td>518.073897</td>\n",
       "    </tr>\n",
       "    <tr>\n",
       "      <th>3</th>\n",
       "      <td>Temperature</td>\n",
       "      <td>2.426880</td>\n",
       "    </tr>\n",
       "    <tr>\n",
       "      <th>4</th>\n",
       "      <td>RH</td>\n",
       "      <td>2.884722</td>\n",
       "    </tr>\n",
       "    <tr>\n",
       "      <th>5</th>\n",
       "      <td>Ws</td>\n",
       "      <td>1.302306</td>\n",
       "    </tr>\n",
       "    <tr>\n",
       "      <th>6</th>\n",
       "      <td>Rain</td>\n",
       "      <td>1.550498</td>\n",
       "    </tr>\n",
       "    <tr>\n",
       "      <th>7</th>\n",
       "      <td>FFMC</td>\n",
       "      <td>4.129014</td>\n",
       "    </tr>\n",
       "    <tr>\n",
       "      <th>8</th>\n",
       "      <td>DMC</td>\n",
       "      <td>83.616434</td>\n",
       "    </tr>\n",
       "    <tr>\n",
       "      <th>9</th>\n",
       "      <td>DC</td>\n",
       "      <td>25.558143</td>\n",
       "    </tr>\n",
       "    <tr>\n",
       "      <th>10</th>\n",
       "      <td>ISI</td>\n",
       "      <td>23.310913</td>\n",
       "    </tr>\n",
       "    <tr>\n",
       "      <th>11</th>\n",
       "      <td>BUI</td>\n",
       "      <td>174.604372</td>\n",
       "    </tr>\n",
       "    <tr>\n",
       "      <th>12</th>\n",
       "      <td>FWI</td>\n",
       "      <td>40.919619</td>\n",
       "    </tr>\n",
       "    <tr>\n",
       "      <th>13</th>\n",
       "      <td>Region</td>\n",
       "      <td>1.626258</td>\n",
       "    </tr>\n",
       "  </tbody>\n",
       "</table>\n",
       "</div>"
      ],
      "text/plain": [
       "        Feature         VIF\n",
       "0           day    1.488840\n",
       "1         month    1.093791\n",
       "2          year  518.073897\n",
       "3   Temperature    2.426880\n",
       "4            RH    2.884722\n",
       "5            Ws    1.302306\n",
       "6          Rain    1.550498\n",
       "7          FFMC    4.129014\n",
       "8           DMC   83.616434\n",
       "9            DC   25.558143\n",
       "10          ISI   23.310913\n",
       "11          BUI  174.604372\n",
       "12          FWI   40.919619\n",
       "13       Region    1.626258"
      ]
     },
     "execution_count": 10,
     "metadata": {},
     "output_type": "execute_result"
    }
   ],
   "source": [
    "vif_score(x)"
   ]
  },
  {
   "cell_type": "code",
   "execution_count": 11,
   "id": "a5b8c501",
   "metadata": {},
   "outputs": [
    {
     "data": {
      "image/png": "[encoded data removed]",
      "text/plain": [
       "<Figure size 864x720 with 2 Axes>"
      ]
     },
     "metadata": {
      "needs_background": "light"
     },
     "output_type": "display_data"
    }
   ],
   "source": [
    "#Using Pearson Correlation\n",
    "plt.figure(figsize=(12,10))\n",
    "cor = x.drop(columns=['year']).corr().abs()\n",
    "sns.heatmap(cor, annot=True, cmap=plt.cm.CMRmap_r)\n",
    "plt.show()"
   ]
  },
  {
   "cell_type": "code",
   "execution_count": 12,
   "id": "c43cdf71",
   "metadata": {},
   "outputs": [
    {
     "name": "stdout",
     "output_type": "stream",
     "text": [
      "['DMC', 'DC', 'ISI']\n"
     ]
    }
   ],
   "source": [
    "# Absolute values of Correlation matrix\n",
    "corr_df = x.corr().abs()\n",
    "# output array of True(dtype=bool) with the same shape as `corr_df`\n",
    "bool_arr = np.ones_like(corr_df, dtype=bool)\n",
    "# Upper triangle of an array\n",
    "mask = np.triu(bool_arr)\n",
    "# Mask method\n",
    "tri_df = corr_df.mask(mask)\n",
    "# find columns that exceed threshold\n",
    "to_drop = [c for c in tri_df.columns if any(tri_df[c] > 0.9)]\n",
    "print(to_drop)"
   ]
  },
  {
   "cell_type": "markdown",
   "id": "8865a8e7",
   "metadata": {},
   "source": [
    "#### Custom function to obtain the highly correlated feature columns"
   ]
  },
  {
   "cell_type": "code",
   "execution_count": 13,
   "id": "1cabe55d",
   "metadata": {},
   "outputs": [],
   "source": [
    "def get_correlated_cols(data, threshold):\n",
    "    corr_col1 = set()      # creating a set of all unique columns\n",
    "    corr_col2 = set()\n",
    "    corr_df = data.corr().abs()          # correlation matrix containing absolute values\n",
    "    for i in range(len(corr_df.columns)):\n",
    "        for j in range(i):\n",
    "            if corr_df.iloc[i,j] > threshold:\n",
    "                # we can drop either one of the correlated columns, we can use either corr_df.columns[i] or corr_df.columns[j]\n",
    "                col_name1 = corr_df.columns[j]     # getting the column name\n",
    "                col_name2 = corr_df.columns[i]\n",
    "                corr_col1.add(col_name1)\n",
    "                corr_col2.add(col_name2)\n",
    "    return corr_col1, corr_col2"
   ]
  },
  {
   "cell_type": "markdown",
   "id": "bc69f048",
   "metadata": {},
   "source": [
    "We have considered correlation threshold as 0.9"
   ]
  },
  {
   "cell_type": "code",
   "execution_count": 14,
   "id": "9752ad61",
   "metadata": {},
   "outputs": [
    {
     "data": {
      "text/plain": [
       "({'DC', 'DMC', 'ISI'}, {'BUI', 'FWI'})"
      ]
     },
     "execution_count": 14,
     "metadata": {},
     "output_type": "execute_result"
    }
   ],
   "source": [
    "corr_cols = get_correlated_cols(x, 0.9)\n",
    "corr_cols"
   ]
  },
  {
   "cell_type": "markdown",
   "id": "4814690b",
   "metadata": {},
   "source": [
    "#### Dropping the highly correlated columns"
   ]
  },
  {
   "cell_type": "code",
   "execution_count": 15,
   "id": "45eef154",
   "metadata": {},
   "outputs": [
    {
     "data": {
      "text/plain": [
       "(244, 12)"
      ]
     },
     "execution_count": 15,
     "metadata": {},
     "output_type": "execute_result"
    }
   ],
   "source": [
    "#x.drop(corr_cols[0], axis=1, inplace=True)\n",
    "x.drop(corr_cols[1], axis=1, inplace=True)\n",
    "x.shape"
   ]
  },
  {
   "cell_type": "code",
   "execution_count": 16,
   "id": "e132efc8",
   "metadata": {},
   "outputs": [
    {
     "data": {
      "text/plain": [
       "(244, 11)"
      ]
     },
     "execution_count": 16,
     "metadata": {},
     "output_type": "execute_result"
    }
   ],
   "source": [
    "x = x.drop(['year'], axis=1)\n",
    "x.shape"
   ]
  },
  {
   "cell_type": "code",
   "execution_count": 17,
   "id": "f8622a00",
   "metadata": {},
   "outputs": [
    {
     "data": {
      "text/plain": [
       "<AxesSubplot:>"
      ]
     },
     "execution_count": 17,
     "metadata": {},
     "output_type": "execute_result"
    },
    {
     "data": {
      "image/png": "[encoded data removed]",
      "text/plain": [
       "<Figure size 1152x576 with 1 Axes>"
      ]
     },
     "metadata": {
      "needs_background": "light"
     },
     "output_type": "display_data"
    }
   ],
   "source": [
    "fig, ax = plt.subplots(figsize=(16, 8))\n",
    "sns.boxplot(data=x)"
   ]
  },
  {
   "cell_type": "markdown",
   "id": "e9792349",
   "metadata": {},
   "source": [
    "### Outlier Detection"
   ]
  },
  {
   "cell_type": "code",
   "execution_count": 19,
   "id": "8c559b4c",
   "metadata": {},
   "outputs": [
    {
     "name": "stdout",
     "output_type": "stream",
     "text": [
      "Outliers from IQR method for day are []\n",
      "Outliers from IQR method for month are []\n",
      "Outliers from IQR method for Temperature are [22, 22]\n",
      "Outliers from IQR method for RH are []\n",
      "Outliers from IQR method for Ws are [6, 8, 9, 9, 22, 22, 26, 29]\n",
      "Outliers from IQR method for Rain are [1.3, 1.3, 1.4, 1.4, 1.7, 1.8, 1.8, 1.8, 1.9, 2.0, 2.0, 2.0, 2.2, 2.5, 2.9, 2.9, 3.1, 3.1, 3.8, 3.8, 4.0, 4.1, 4.4, 4.5, 4.6, 4.7, 5.8, 6.0, 6.5, 7.2, 8.3, 8.7, 10.1, 13.1, 16.8]\n",
      "Outliers from IQR method for FFMC are [28.6, 30.5, 36.1, 37.3, 37.9, 40.9, 41.1, 42.6, 44.9, 45.0, 45.9, 46.0, 47.1, 47.4, 47.4, 47.4]\n",
      "Outliers from IQR method for DMC are [43.9, 44.2, 45.6, 46.1, 46.6, 47.0, 50.2, 51.3, 54.2, 56.3, 61.3, 65.9]\n",
      "Outliers from IQR method for DC are [151.3, 157.5, 159.1, 161.5, 166.0, 167.2, 168.2, 171.3, 177.3, 180.4, 181.3, 190.6, 200.2, 210.4, 220.4]\n",
      "Outliers from IQR method for ISI are [16.6, 17.2, 18.5, 19.0]\n",
      "Outliers from IQR method for Region are []\n"
     ]
    }
   ],
   "source": [
    "def detect_outliers_iqr(data):\n",
    "    outliers = []\n",
    "    data = sorted(data)\n",
    "    q1 = np.percentile(data, 25)\n",
    "    q3 = np.percentile(data, 75)\n",
    "    # print(q1, q3)\n",
    "    IQR = q3-q1\n",
    "    lwr_bound = q1-(1.5*IQR)\n",
    "    upr_bound = q3+(1.5*IQR)\n",
    "    # print(lwr_bound, upr_bound)\n",
    "    for i in data: \n",
    "        if (i<lwr_bound or i>upr_bound):\n",
    "            outliers.append(i)\n",
    "    return outliers\n",
    "\n",
    "for col in x.columns:\n",
    "    sample_outliers = detect_outliers_iqr(x[col])\n",
    "    print(f\"Outliers from IQR method for {col} are {sample_outliers}\")"
   ]
  },
  {
   "cell_type": "markdown",
   "id": "45467aab",
   "metadata": {},
   "source": [
    "### Quantile based flooring and capping"
   ]
  },
  {
   "cell_type": "code",
   "execution_count": 20,
   "id": "dacf9319",
   "metadata": {},
   "outputs": [
    {
     "name": "stdout",
     "output_type": "stream",
     "text": [
      "Lower and upper fence for day is -14.5 and 45.5 respectively.\n",
      "Lower and upper fence for month is 5.5 and 9.5 respectively.\n",
      "Lower and upper fence for Temperature is 22.5 and 42.5 respectively.\n",
      "Lower and upper fence for RH is 20.125 and 105.125 respectively.\n",
      "Lower and upper fence for Ws is 9.5 and 21.5 respectively.\n",
      "Lower and upper fence for Rain is -0.75 and 1.25 respectively.\n",
      "Lower and upper fence for FFMC is 47.73750000000001 and 112.63749999999999 respectively.\n",
      "Lower and upper fence for DMC is -16.624999999999996 and 43.175 respectively.\n",
      "Lower and upper fence for DC is -69.03750000000002 and 150.46250000000003 respectively.\n",
      "Lower and upper fence for ISI is -7.450000000000001 and 16.150000000000002 respectively.\n",
      "Lower and upper fence for Region is -1.5 and 2.5 respectively.\n",
      "New Shape after flooring and capping outliers:  (244, 11)\n"
     ]
    }
   ],
   "source": [
    "for col in x:\n",
    "    q_1 = x[col].quantile(0.25)\n",
    "    q_3 = x[col].quantile(0.75)\n",
    "    iq_range = q_3 - q_1\n",
    "    lwr_fence = q_1 - (1.5*iq_range)\n",
    "    upr_fence = q_3 + (1.5*iq_range)\n",
    "    \n",
    "    print(f\"Lower and upper fence for {col} is {lwr_fence} and {upr_fence} respectively.\")\n",
    "    #print('\\n')\n",
    "    \n",
    "    x[col] = np.where(x[col] < lwr_fence, lwr_fence, x[col])\n",
    "    x[col] = np.where(x[col] > upr_fence, upr_fence, x[col])\n",
    "\n",
    "print(\"New Shape after flooring and capping outliers: \", x.shape)"
   ]
  },
  {
   "cell_type": "code",
   "execution_count": 21,
   "id": "a0304b79",
   "metadata": {},
   "outputs": [
    {
     "data": {
      "text/plain": [
       "<AxesSubplot:>"
      ]
     },
     "execution_count": 21,
     "metadata": {},
     "output_type": "execute_result"
    },
    {
     "data": {
      "image/png": "[encoded data removed]",
      "text/plain": [
       "<Figure size 1440x1080 with 1 Axes>"
      ]
     },
     "metadata": {
      "needs_background": "light"
     },
     "output_type": "display_data"
    }
   ],
   "source": [
    "fig, ax = plt.subplots(figsize = (20, 15))\n",
    "sns.boxplot(data = x, ax = ax)"
   ]
  },
  {
   "cell_type": "code",
   "execution_count": 18,
   "id": "6fe838ce",
   "metadata": {},
   "outputs": [
    {
     "data": {
      "text/html": [
       "<div>\n",
       "<style scoped>\n",
       "    .dataframe tbody tr th:only-of-type {\n",
       "        vertical-align: middle;\n",
       "    }\n",
       "\n",
       "    .dataframe tbody tr th {\n",
       "        vertical-align: top;\n",
       "    }\n",
       "\n",
       "    .dataframe thead th {\n",
       "        text-align: right;\n",
       "    }\n",
       "</style>\n",
       "<table border=\"1\" class=\"dataframe\">\n",
       "  <thead>\n",
       "    <tr style=\"text-align: right;\">\n",
       "      <th></th>\n",
       "      <th>Temperature</th>\n",
       "      <th>RH</th>\n",
       "      <th>Ws</th>\n",
       "      <th>Rain</th>\n",
       "      <th>FFMC</th>\n",
       "      <th>DMC</th>\n",
       "      <th>DC</th>\n",
       "      <th>ISI</th>\n",
       "    </tr>\n",
       "  </thead>\n",
       "  <tbody>\n",
       "    <tr>\n",
       "      <th>0</th>\n",
       "      <td>29</td>\n",
       "      <td>57</td>\n",
       "      <td>18</td>\n",
       "      <td>0.0</td>\n",
       "      <td>65.7</td>\n",
       "      <td>3.4</td>\n",
       "      <td>7.6</td>\n",
       "      <td>1.3</td>\n",
       "    </tr>\n",
       "    <tr>\n",
       "      <th>1</th>\n",
       "      <td>29</td>\n",
       "      <td>61</td>\n",
       "      <td>13</td>\n",
       "      <td>1.3</td>\n",
       "      <td>64.4</td>\n",
       "      <td>4.1</td>\n",
       "      <td>7.6</td>\n",
       "      <td>1.0</td>\n",
       "    </tr>\n",
       "    <tr>\n",
       "      <th>2</th>\n",
       "      <td>26</td>\n",
       "      <td>82</td>\n",
       "      <td>22</td>\n",
       "      <td>13.1</td>\n",
       "      <td>47.1</td>\n",
       "      <td>2.5</td>\n",
       "      <td>7.1</td>\n",
       "      <td>0.3</td>\n",
       "    </tr>\n",
       "    <tr>\n",
       "      <th>3</th>\n",
       "      <td>25</td>\n",
       "      <td>89</td>\n",
       "      <td>13</td>\n",
       "      <td>2.5</td>\n",
       "      <td>28.6</td>\n",
       "      <td>1.3</td>\n",
       "      <td>6.9</td>\n",
       "      <td>0.0</td>\n",
       "    </tr>\n",
       "    <tr>\n",
       "      <th>4</th>\n",
       "      <td>27</td>\n",
       "      <td>77</td>\n",
       "      <td>16</td>\n",
       "      <td>0.0</td>\n",
       "      <td>64.8</td>\n",
       "      <td>3.0</td>\n",
       "      <td>14.2</td>\n",
       "      <td>1.2</td>\n",
       "    </tr>\n",
       "    <tr>\n",
       "      <th>...</th>\n",
       "      <td>...</td>\n",
       "      <td>...</td>\n",
       "      <td>...</td>\n",
       "      <td>...</td>\n",
       "      <td>...</td>\n",
       "      <td>...</td>\n",
       "      <td>...</td>\n",
       "      <td>...</td>\n",
       "    </tr>\n",
       "    <tr>\n",
       "      <th>239</th>\n",
       "      <td>30</td>\n",
       "      <td>65</td>\n",
       "      <td>14</td>\n",
       "      <td>0.0</td>\n",
       "      <td>85.4</td>\n",
       "      <td>16.0</td>\n",
       "      <td>44.5</td>\n",
       "      <td>4.5</td>\n",
       "    </tr>\n",
       "    <tr>\n",
       "      <th>240</th>\n",
       "      <td>28</td>\n",
       "      <td>87</td>\n",
       "      <td>15</td>\n",
       "      <td>4.4</td>\n",
       "      <td>41.1</td>\n",
       "      <td>6.5</td>\n",
       "      <td>8.0</td>\n",
       "      <td>0.1</td>\n",
       "    </tr>\n",
       "    <tr>\n",
       "      <th>241</th>\n",
       "      <td>27</td>\n",
       "      <td>87</td>\n",
       "      <td>29</td>\n",
       "      <td>0.5</td>\n",
       "      <td>45.9</td>\n",
       "      <td>3.5</td>\n",
       "      <td>7.9</td>\n",
       "      <td>0.4</td>\n",
       "    </tr>\n",
       "    <tr>\n",
       "      <th>242</th>\n",
       "      <td>24</td>\n",
       "      <td>54</td>\n",
       "      <td>18</td>\n",
       "      <td>0.1</td>\n",
       "      <td>79.7</td>\n",
       "      <td>4.3</td>\n",
       "      <td>15.2</td>\n",
       "      <td>1.7</td>\n",
       "    </tr>\n",
       "    <tr>\n",
       "      <th>243</th>\n",
       "      <td>24</td>\n",
       "      <td>64</td>\n",
       "      <td>15</td>\n",
       "      <td>0.2</td>\n",
       "      <td>67.3</td>\n",
       "      <td>3.8</td>\n",
       "      <td>16.5</td>\n",
       "      <td>1.2</td>\n",
       "    </tr>\n",
       "  </tbody>\n",
       "</table>\n",
       "<p>244 rows × 8 columns</p>\n",
       "</div>"
      ],
      "text/plain": [
       "     Temperature  RH  Ws  Rain  FFMC   DMC    DC  ISI\n",
       "0             29  57  18   0.0  65.7   3.4   7.6  1.3\n",
       "1             29  61  13   1.3  64.4   4.1   7.6  1.0\n",
       "2             26  82  22  13.1  47.1   2.5   7.1  0.3\n",
       "3             25  89  13   2.5  28.6   1.3   6.9  0.0\n",
       "4             27  77  16   0.0  64.8   3.0  14.2  1.2\n",
       "..           ...  ..  ..   ...   ...   ...   ...  ...\n",
       "239           30  65  14   0.0  85.4  16.0  44.5  4.5\n",
       "240           28  87  15   4.4  41.1   6.5   8.0  0.1\n",
       "241           27  87  29   0.5  45.9   3.5   7.9  0.4\n",
       "242           24  54  18   0.1  79.7   4.3  15.2  1.7\n",
       "243           24  64  15   0.2  67.3   3.8  16.5  1.2\n",
       "\n",
       "[244 rows x 8 columns]"
      ]
     },
     "execution_count": 18,
     "metadata": {},
     "output_type": "execute_result"
    }
   ],
   "source": [
    "# dropping columns which may not help in regression model\n",
    "#x.drop(columns=['day','month'], inplace=True)   # keeping cols Classes and Region doesn't improve our R2 score\n",
    "x.drop(columns=['day','month','Region'], inplace=True)\n",
    "x"
   ]
  },
  {
   "cell_type": "markdown",
   "id": "1d00edc4",
   "metadata": {},
   "source": [
    "### Train test split"
   ]
  },
  {
   "cell_type": "code",
   "execution_count": 19,
   "id": "8542e919",
   "metadata": {},
   "outputs": [],
   "source": [
    "from sklearn.model_selection import train_test_split\n",
    "x_train, x_test, y_train, y_test = train_test_split(x, y, test_size=0.25, random_state=12)"
   ]
  },
  {
   "cell_type": "code",
   "execution_count": 20,
   "id": "7c8c5fd1",
   "metadata": {},
   "outputs": [
    {
     "data": {
      "text/plain": [
       "((183, 8), (61, 8))"
      ]
     },
     "execution_count": 20,
     "metadata": {},
     "output_type": "execute_result"
    }
   ],
   "source": [
    "x_train.shape, x_test.shape"
   ]
  },
  {
   "cell_type": "code",
   "execution_count": 21,
   "id": "9fa3bd56",
   "metadata": {},
   "outputs": [
    {
     "data": {
      "text/plain": [
       "((183,), (61,))"
      ]
     },
     "execution_count": 21,
     "metadata": {},
     "output_type": "execute_result"
    }
   ],
   "source": [
    "y_train.shape, y_test.shape"
   ]
  },
  {
   "cell_type": "code",
   "execution_count": 22,
   "id": "2b2c8f04",
   "metadata": {},
   "outputs": [],
   "source": [
    "from sklearn.preprocessing import StandardScaler\n",
    "\n",
    "std_scaler = StandardScaler()\n",
    "x_train_scaled = std_scaler.fit_transform(x_train)\n",
    "# we get ndarray after fit_transform method of scaler class, we convert this array to dataframe\n",
    "df_xtrain_scaled= pd.DataFrame(x_train_scaled,columns=x_train.columns)\n",
    "x_test_scaled = std_scaler.transform(x_test)"
   ]
  },
  {
   "cell_type": "code",
   "execution_count": 23,
   "id": "b9c41018",
   "metadata": {},
   "outputs": [
    {
     "data": {
      "text/plain": [
       "Text(0.5, 1.0, 'x_train after scaling')"
      ]
     },
     "execution_count": 23,
     "metadata": {},
     "output_type": "execute_result"
    },
    {
     "data": {
      "image/png": "[encoded data removed]",
      "text/plain": [
       "<Figure size 1152x432 with 2 Axes>"
      ]
     },
     "metadata": {
      "needs_background": "light"
     },
     "output_type": "display_data"
    }
   ],
   "source": [
    "plt.figure(figsize=(16,6))\n",
    "plt.suptitle(\"Boxplots for x_train pre and post scaling\", fontsize = 15, fontweight='bold')\n",
    "\n",
    "plt.subplot(1,2,1)\n",
    "sns.boxplot(data=x_train)\n",
    "plt.title('x_train before scaling')\n",
    "plt.subplot(1,2,2)\n",
    "sns.boxplot(data=df_xtrain_scaled)\n",
    "plt.title('x_train after scaling')"
   ]
  },
  {
   "cell_type": "markdown",
   "id": "45318096",
   "metadata": {},
   "source": [
    "### Model Training"
   ]
  },
  {
   "cell_type": "code",
   "execution_count": 24,
   "id": "4fe4eae4",
   "metadata": {},
   "outputs": [],
   "source": [
    "from sklearn.linear_model import LogisticRegression\n",
    "from sklearn.ensemble import RandomForestClassifier\n",
    "from sklearn.tree import DecisionTreeClassifier\n",
    "from sklearn.naive_bayes import GaussianNB\n",
    "from sklearn.neighbors import KNeighborsClassifier\n",
    "from sklearn.svm import SVC\n",
    "from xgboost import XGBClassifier\n",
    "from sklearn.metrics import accuracy_score, classification_report, confusion_matrix, ConfusionMatrixDisplay, \\\n",
    "                            precision_score, recall_score,f1_score, roc_auc_score, roc_curve, log_loss, matthews_corrcoef\n",
    "\n",
    "# AUC ROC indicates how well the probabilities from the positive classes are separated from the negative classes"
   ]
  },
  {
   "cell_type": "code",
   "execution_count": 25,
   "id": "beddb5cd",
   "metadata": {},
   "outputs": [],
   "source": [
    "models = {\n",
    "    'Logistic Regression': LogisticRegression(),\n",
    "    'Gaussian Naive Bayes': GaussianNB(),\n",
    "    'K Neighbours Classifier': KNeighborsClassifier(),\n",
    "    'Support Vector Classifier': SVC(),\n",
    "    'Decision Tree Classifier': DecisionTreeClassifier(),\n",
    "    'Random Forest Classifier': RandomForestClassifier(),\n",
    "    'XG Boost Classifier': XGBClassifier()\n",
    "}"
   ]
  },
  {
   "cell_type": "code",
   "execution_count": 26,
   "id": "f6337053",
   "metadata": {},
   "outputs": [
    {
     "name": "stdout",
     "output_type": "stream",
     "text": [
      "Logistic Regression\n",
      "Model performance for training set\n",
      "- Accuracy: 0.9727\n",
      "- Precision: 0.9712\n",
      "- Recall: 0.9806\n",
      "- F1 Score: 0.9727\n",
      "- ROC AUC Score: 0.9715\n",
      "- Log Loss: 0.9437\n",
      "- Matthews Correlation Coefficient: 0.9445\n",
      "----------------------------------------------------\n",
      "Model performance for test set\n",
      "- Accuracy: 0.9836\n",
      "- Precision: 1.0000\n",
      "- Recall: 0.9714\n",
      "- F1 Score: 0.9836\n",
      "- ROC AUC Score: 0.9857\n",
      "- Log Loss: 0.5662\n",
      "- Matthews Correlation Coefficient: 0.9672\n",
      "===================================\n",
      "\n",
      "\n",
      "Gaussian Naive Bayes\n",
      "Model performance for training set\n",
      "- Accuracy: 0.9563\n",
      "- Precision: 0.9524\n",
      "- Recall: 0.9709\n",
      "- F1 Score: 0.9562\n",
      "- ROC AUC Score: 0.9542\n",
      "- Log Loss: 1.5099\n",
      "- Matthews Correlation Coefficient: 0.9111\n",
      "----------------------------------------------------\n",
      "Model performance for test set\n",
      "- Accuracy: 0.9508\n",
      "- Precision: 0.9706\n",
      "- Recall: 0.9429\n",
      "- F1 Score: 0.9509\n",
      "- ROC AUC Score: 0.9522\n",
      "- Log Loss: 1.6986\n",
      "- Matthews Correlation Coefficient: 0.9004\n",
      "===================================\n",
      "\n",
      "\n",
      "K Neighbours Classifier\n",
      "Model performance for training set\n",
      "- Accuracy: 0.9672\n",
      "- Precision: 0.9619\n",
      "- Recall: 0.9806\n",
      "- F1 Score: 0.9672\n",
      "- ROC AUC Score: 0.9653\n",
      "- Log Loss: 1.1324\n",
      "- Matthews Correlation Coefficient: 0.9334\n",
      "----------------------------------------------------\n",
      "Model performance for test set\n",
      "- Accuracy: 0.8689\n",
      "- Precision: 0.8857\n",
      "- Recall: 0.8857\n",
      "- F1 Score: 0.8689\n",
      "- ROC AUC Score: 0.8659\n",
      "- Log Loss: 4.5297\n",
      "- Matthews Correlation Coefficient: 0.7319\n",
      "===================================\n",
      "\n",
      "\n",
      "Support Vector Classifier\n",
      "Model performance for training set\n",
      "- Accuracy: 0.9563\n",
      "- Precision: 0.9612\n",
      "- Recall: 0.9612\n",
      "- F1 Score: 0.9563\n",
      "- ROC AUC Score: 0.9556\n",
      "- Log Loss: 1.5099\n",
      "- Matthews Correlation Coefficient: 0.9112\n",
      "----------------------------------------------------\n",
      "Model performance for test set\n",
      "- Accuracy: 0.9508\n",
      "- Precision: 0.9706\n",
      "- Recall: 0.9429\n",
      "- F1 Score: 0.9509\n",
      "- ROC AUC Score: 0.9522\n",
      "- Log Loss: 1.6986\n",
      "- Matthews Correlation Coefficient: 0.9004\n",
      "===================================\n",
      "\n",
      "\n",
      "Decision Tree Classifier\n",
      "Model performance for training set\n",
      "- Accuracy: 1.0000\n",
      "- Precision: 1.0000\n",
      "- Recall: 1.0000\n",
      "- F1 Score: 1.0000\n",
      "- ROC AUC Score: 1.0000\n",
      "- Log Loss: 0.0000\n",
      "- Matthews Correlation Coefficient: 1.0000\n",
      "----------------------------------------------------\n",
      "Model performance for test set\n",
      "- Accuracy: 0.9836\n",
      "- Precision: 1.0000\n",
      "- Recall: 0.9714\n",
      "- F1 Score: 0.9836\n",
      "- ROC AUC Score: 0.9857\n",
      "- Log Loss: 0.5662\n",
      "- Matthews Correlation Coefficient: 0.9672\n",
      "===================================\n",
      "\n",
      "\n",
      "Random Forest Classifier\n",
      "Model performance for training set\n",
      "- Accuracy: 1.0000\n",
      "- Precision: 1.0000\n",
      "- Recall: 1.0000\n",
      "- F1 Score: 1.0000\n",
      "- ROC AUC Score: 1.0000\n",
      "- Log Loss: 0.0000\n",
      "- Matthews Correlation Coefficient: 1.0000\n",
      "----------------------------------------------------\n",
      "Model performance for test set\n",
      "- Accuracy: 1.0000\n",
      "- Precision: 1.0000\n",
      "- Recall: 1.0000\n",
      "- F1 Score: 1.0000\n",
      "- ROC AUC Score: 1.0000\n",
      "- Log Loss: 0.0000\n",
      "- Matthews Correlation Coefficient: 1.0000\n",
      "===================================\n",
      "\n",
      "\n",
      "XG Boost Classifier\n",
      "Model performance for training set\n",
      "- Accuracy: 0.9945\n",
      "- Precision: 1.0000\n",
      "- Recall: 0.9903\n",
      "- F1 Score: 0.9945\n",
      "- ROC AUC Score: 0.9951\n",
      "- Log Loss: 0.1887\n",
      "- Matthews Correlation Coefficient: 0.9890\n",
      "----------------------------------------------------\n",
      "Model performance for test set\n",
      "- Accuracy: 0.9836\n",
      "- Precision: 0.9722\n",
      "- Recall: 1.0000\n",
      "- F1 Score: 0.9836\n",
      "- ROC AUC Score: 0.9808\n",
      "- Log Loss: 0.5662\n",
      "- Matthews Correlation Coefficient: 0.9669\n",
      "===================================\n",
      "\n",
      "\n"
     ]
    }
   ],
   "source": [
    "for i in range(len(list(models))):\n",
    "    model = list(models.values())[i]\n",
    "    model.fit(x_train_scaled, y_train)\n",
    "    \n",
    "    # making predictions\n",
    "    y_train_pred = model.predict(x_train_scaled)\n",
    "    y_test_pred = model.predict(x_test_scaled)\n",
    "    \n",
    "    # training set performance\n",
    "    model_train_accuracy = accuracy_score(y_train, y_train_pred)\n",
    "    model_train_f1 = f1_score(y_train, y_train_pred, average='weighted')\n",
    "    model_train_precision = precision_score(y_train, y_train_pred)\n",
    "    model_train_recall = recall_score(y_train, y_train_pred)\n",
    "    model_train_roc_auc = roc_auc_score(y_train, y_train_pred) \n",
    "    model_train_log_loss = log_loss(y_train, y_train_pred)\n",
    "    model_train_mcc = matthews_corrcoef(y_train, y_train_pred)\n",
    "    \n",
    "    # test set performance\n",
    "    model_test_accuracy = accuracy_score(y_test, y_test_pred)\n",
    "    model_test_f1 = f1_score(y_test, y_test_pred, average='weighted')\n",
    "    model_test_precision = precision_score(y_test, y_test_pred)\n",
    "    model_test_recall = recall_score(y_test, y_test_pred)\n",
    "    model_test_roc_auc = roc_auc_score(y_test, y_test_pred)\n",
    "    model_test_log_loss = log_loss(y_test, y_test_pred)\n",
    "    model_test_mcc = matthews_corrcoef(y_test, y_test_pred)\n",
    "    \n",
    "    print(list(models.keys())[i])\n",
    "    \n",
    "    print(\"Model performance for training set\")\n",
    "    \n",
    "    print(\"- Accuracy: {:.4f}\".format(model_train_accuracy))\n",
    "    print(\"- Precision: {:.4f}\".format(model_train_precision))\n",
    "    print(\"- Recall: {:.4f}\".format(model_train_recall))\n",
    "    print(\"- F1 Score: {:.4f}\".format(model_train_f1))\n",
    "    print(\"- ROC AUC Score: {:.4f}\".format(model_train_roc_auc))\n",
    "    print(\"- Log Loss: {:.4f}\".format(model_train_log_loss))\n",
    "    print(\"- Matthews Correlation Coefficient: {:.4f}\".format(model_train_mcc))\n",
    "    \n",
    "    print(\"----------------------------------------------------\")\n",
    "    \n",
    "    print(\"Model performance for test set\")\n",
    "    \n",
    "    print(\"- Accuracy: {:.4f}\".format(model_test_accuracy))\n",
    "    print(\"- Precision: {:.4f}\".format(model_test_precision))\n",
    "    print(\"- Recall: {:.4f}\".format(model_test_recall))\n",
    "    print(\"- F1 Score: {:.4f}\".format(model_test_f1))\n",
    "    print(\"- ROC AUC Score: {:.4f}\".format(model_test_roc_auc))\n",
    "    print(\"- Log Loss: {:.4f}\".format(model_test_log_loss))\n",
    "    print(\"- Matthews Correlation Coefficient: {:.4f}\".format(model_test_mcc))\n",
    "    \n",
    "    print(\"=\"*35)\n",
    "    print('\\n')"
   ]
  },
  {
   "cell_type": "markdown",
   "id": "889ba470",
   "metadata": {},
   "source": [
    "***Logistic Regression, Decision Tree, Random Forest and XGBoost Classifiers are the best performing models having high performance scores.***"
   ]
  },
  {
   "cell_type": "markdown",
   "id": "b94b8a4e",
   "metadata": {},
   "source": [
    "### Logistic Regression"
   ]
  },
  {
   "cell_type": "code",
   "execution_count": 24,
   "id": "e0e49688",
   "metadata": {},
   "outputs": [
    {
     "name": "stdout",
     "output_type": "stream",
     "text": [
      "max_iter reached after 1 seconds\n"
     ]
    },
    {
     "name": "stderr",
     "output_type": "stream",
     "text": [
      "[Parallel(n_jobs=1)]: Using backend SequentialBackend with 1 concurrent workers.\n",
      "[Parallel(n_jobs=1)]: Done   1 out of   1 | elapsed:    0.0s finished\n"
     ]
    },
    {
     "data": {
      "text/plain": [
       "LogisticRegression(l1_ratio=0.5, penalty='elasticnet', solver='saga', verbose=1)"
      ]
     },
     "execution_count": 24,
     "metadata": {},
     "output_type": "execute_result"
    }
   ],
   "source": [
    "logistic_regression = LogisticRegression(solver='saga',penalty='elasticnet', verbose=1, l1_ratio=0.5)\n",
    "logistic_regression.fit(x_train_scaled, y_train)"
   ]
  },
  {
   "cell_type": "code",
   "execution_count": 25,
   "id": "2b253220",
   "metadata": {},
   "outputs": [],
   "source": [
    "logistic_regression_pred = logistic_regression.predict(x_test_scaled)"
   ]
  },
  {
   "cell_type": "markdown",
   "id": "c5b0f6db",
   "metadata": {},
   "source": [
    "#### Confusion Matrix"
   ]
  },
  {
   "cell_type": "markdown",
   "id": "716ff925",
   "metadata": {},
   "source": [
    "<img src=\"metrics.png\" width=\"500\">"
   ]
  },
  {
   "cell_type": "markdown",
   "id": "5d697ab8",
   "metadata": {},
   "source": [
    "### F1 Score\n",
    "\n",
    "F1 score considers both Precision and Recall for evaluating a model.vIt is defined as the harmonic mean of Precision and Recall. The closer the value of the F1 score is to 1.0, the better the expected performance of the model is. \n",
    "\n",
    "The mathematical formula is:\n",
    "        F1 score= $ \\frac {2*(Precision*Recall)}{(Precision+Recall)} $\n"
   ]
  },
  {
   "cell_type": "code",
   "execution_count": 26,
   "id": "69b20c82",
   "metadata": {},
   "outputs": [
    {
     "data": {
      "image/png": "[encoded data removed]",
      "text/plain": [
       "<Figure size 432x288 with 2 Axes>"
      ]
     },
     "metadata": {
      "needs_background": "light"
     },
     "output_type": "display_data"
    }
   ],
   "source": [
    "cm = confusion_matrix(y_test, logistic_regression_pred, labels=logistic_regression.classes_)\n",
    "cm_display = ConfusionMatrixDisplay(confusion_matrix=cm, display_labels=logistic_regression.classes_)\n",
    "cm_display.plot()\n",
    "plt.show()"
   ]
  },
  {
   "cell_type": "code",
   "execution_count": 27,
   "id": "7d736f5d",
   "metadata": {},
   "outputs": [
    {
     "data": {
      "text/plain": [
       "Text(69.0, 0.5, 'Truth')"
      ]
     },
     "execution_count": 27,
     "metadata": {},
     "output_type": "execute_result"
    },
    {
     "data": {
      "image/png": "[encoded data removed]",
      "text/plain": [
       "<Figure size 720x504 with 2 Axes>"
      ]
     },
     "metadata": {
      "needs_background": "light"
     },
     "output_type": "display_data"
    }
   ],
   "source": [
    "plt.figure(figsize=(10,7))\n",
    "sns.heatmap(cm, annot=True, cmap=plt.cm.YlOrBr_r)\n",
    "plt.xlabel(\"Predicted\", fontdict={\"fontsize\":15})\n",
    "plt.ylabel(\"Truth\", fontdict={\"fontsize\":15})"
   ]
  },
  {
   "cell_type": "code",
   "execution_count": 28,
   "id": "d537ed20",
   "metadata": {},
   "outputs": [
    {
     "name": "stdout",
     "output_type": "stream",
     "text": [
      "Logistic Regression\n",
      "Accuracy Score value: 0.9836\n",
      "F1 score: 0.9855\n",
      "Precision: 1.0000\n",
      "Recall: 0.9714\n",
      "ROC AUC score: 0.9857\n",
      "Matthews Correlation Coefficient: 0.9672\n"
     ]
    }
   ],
   "source": [
    "log_reg_accuracy = accuracy_score(y_test, logistic_regression_pred)\n",
    "log_reg_f1 = f1_score(y_test, logistic_regression_pred)\n",
    "log_reg_precision = precision_score(y_test, logistic_regression_pred)\n",
    "log_reg_recall = recall_score(y_test, logistic_regression_pred)\n",
    "log_reg_roc_auc_score = roc_auc_score(y_test, logistic_regression_pred)\n",
    "log_reg_mcc = matthews_corrcoef(y_test, logistic_regression_pred)\n",
    "\n",
    "print(\"Logistic Regression\")\n",
    "print(\"Accuracy Score value: {:.4f}\".format(log_reg_accuracy))\n",
    "print(\"F1 score: {:.4f}\".format(log_reg_f1))\n",
    "print(\"Precision: {:.4f}\".format(log_reg_precision))\n",
    "print(\"Recall: {:.4f}\".format(log_reg_recall))\n",
    "print(\"ROC AUC score: {:.4f}\".format(log_reg_roc_auc_score))\n",
    "print(\"Matthews Correlation Coefficient: {:.4f}\".format(log_reg_mcc))"
   ]
  },
  {
   "cell_type": "code",
   "execution_count": 29,
   "id": "8496e375",
   "metadata": {},
   "outputs": [],
   "source": [
    "log_reg_roc_auc_score = roc_auc_score(y_test, logistic_regression_pred)\n",
    "# roc_curve gives us false positive rate, true positive rate, threshold\n",
    "fpr, tpr, thresholds = roc_curve(y_test, logistic_regression_pred)    "
   ]
  },
  {
   "cell_type": "code",
   "execution_count": 30,
   "id": "0adb7059",
   "metadata": {},
   "outputs": [
    {
     "data": {
      "image/png": "[encoded data removed]",
      "text/plain": [
       "<Figure size 432x288 with 1 Axes>"
      ]
     },
     "metadata": {
      "needs_background": "light"
     },
     "output_type": "display_data"
    }
   ],
   "source": [
    "plt.plot(fpr, tpr, color='orange', label='ROC')\n",
    "plt.plot([0, 1], [0, 1], color='darkblue', linestyle='--',label='ROC curve (area = %0.2f)' % log_reg_roc_auc_score)\n",
    "plt.xlabel('False Positive Rate')\n",
    "plt.ylabel('True Positive Rate')\n",
    "plt.title('Receiver Operating Characteristic (ROC) Curve')\n",
    "plt.legend()\n",
    "plt.show()"
   ]
  },
  {
   "cell_type": "markdown",
   "id": "986bbf6e",
   "metadata": {},
   "source": [
    "#### Tuning Decision Tree Classifier"
   ]
  },
  {
   "cell_type": "code",
   "execution_count": 27,
   "id": "1cb354f9",
   "metadata": {},
   "outputs": [],
   "source": [
    "from sklearn.model_selection import RandomizedSearchCV, GridSearchCV"
   ]
  },
  {
   "cell_type": "code",
   "execution_count": 38,
   "id": "e6ce5483",
   "metadata": {},
   "outputs": [
    {
     "name": "stdout",
     "output_type": "stream",
     "text": [
      "Fitting 10 folds for each of 10 candidates, totalling 100 fits\n"
     ]
    },
    {
     "data": {
      "text/plain": [
       "RandomizedSearchCV(cv=10, estimator=DecisionTreeClassifier(), n_jobs=-1,\n",
       "                   param_distributions={'criterion': ['gini', 'entropy',\n",
       "                                                      'log_loss'],\n",
       "                                        'max_depth': array([  2,   5,   8,  12,  15,  18,  22,  25,  29,  32,  35,  39,  42,\n",
       "        45,  49,  52,  56,  59,  62,  66,  69,  72,  76,  79,  83,  86,\n",
       "        89,  93,  96, 100]),\n",
       "                                        'max_features': ['auto', 'sqrt',\n",
       "                                                         'log2'],\n",
       "                                        'min_samples_leaf': range(1, 10),\n",
       "                                        'min_samples_split': range(2, 20),\n",
       "                                        'splitter': ['best', 'random']},\n",
       "                   random_state=25, verbose=1)"
      ]
     },
     "execution_count": 38,
     "metadata": {},
     "output_type": "execute_result"
    }
   ],
   "source": [
    "param_grid = {\n",
    "    \"criterion\": [\"gini\", \"entropy\", \"log_loss\"],\n",
    "    \"splitter\": [\"best\", \"random\"],\n",
    "    \"max_depth\" : np.linspace(2, 100, 30, dtype=int),\n",
    "    \"min_samples_split\": range(2,20,1),  # min no of samples required to split an internal node, to prevent tree from overfitting the training data\n",
    "    \"min_samples_leaf\" : range(1,10,1),   # min number of samples required to be at a leaf node\n",
    "    \"max_features\" : [\"auto\",\"sqrt\",\"log2\"]\n",
    "}\n",
    "\n",
    "dt_classifier = DecisionTreeClassifier()\n",
    "rnd_cv = RandomizedSearchCV(estimator=dt_classifier, param_distributions=param_grid, cv=10, n_jobs=-1, verbose=1, random_state=25)\n",
    "rnd_cv.fit(x_train_scaled, y_train)"
   ]
  },
  {
   "cell_type": "code",
   "execution_count": 39,
   "id": "8044e975",
   "metadata": {},
   "outputs": [
    {
     "data": {
      "text/plain": [
       "{'splitter': 'best',\n",
       " 'min_samples_split': 17,\n",
       " 'min_samples_leaf': 4,\n",
       " 'max_features': 'log2',\n",
       " 'max_depth': 22,\n",
       " 'criterion': 'gini'}"
      ]
     },
     "execution_count": 39,
     "metadata": {},
     "output_type": "execute_result"
    }
   ],
   "source": [
    "rnd_cv.best_params_"
   ]
  },
  {
   "cell_type": "code",
   "execution_count": 40,
   "id": "d061bbb8",
   "metadata": {},
   "outputs": [
    {
     "data": {
      "text/plain": [
       "0.9890710382513661"
      ]
     },
     "execution_count": 40,
     "metadata": {},
     "output_type": "execute_result"
    }
   ],
   "source": [
    "dt_best_model = rnd_cv.best_estimator_\n",
    "dt_best_model.score(x_train_scaled, y_train)"
   ]
  },
  {
   "cell_type": "code",
   "execution_count": 41,
   "id": "c823c5e4",
   "metadata": {},
   "outputs": [
    {
     "data": {
      "text/plain": [
       "1.0"
      ]
     },
     "execution_count": 41,
     "metadata": {},
     "output_type": "execute_result"
    }
   ],
   "source": [
    "dt_best_model.score(x_test_scaled, y_test)"
   ]
  },
  {
   "cell_type": "code",
   "execution_count": 42,
   "id": "4a8bf0af",
   "metadata": {},
   "outputs": [],
   "source": [
    "dt_pred = dt_best_model.predict(x_test_scaled)"
   ]
  },
  {
   "cell_type": "code",
   "execution_count": 43,
   "id": "21958f45",
   "metadata": {
    "scrolled": true
   },
   "outputs": [
    {
     "name": "stdout",
     "output_type": "stream",
     "text": [
      "Tuned Decision Tree\n",
      "Accuracy Score value: 1.0000\n",
      "F1 score: 1.0000\n",
      "Precision: 1.0000\n",
      "Recall: 1.0000\n",
      "ROC AUC score: 1.0000\n",
      "Matthews Correlation Coefficient: 1.0000\n"
     ]
    }
   ],
   "source": [
    "dt_accuracy = accuracy_score(y_test, dt_pred)\n",
    "dt_f1 = f1_score(y_test, dt_pred)\n",
    "dt_precision = precision_score(y_test,dt_pred)\n",
    "dt_recall = recall_score(y_test, dt_pred)\n",
    "dt_roc_auc_score = roc_auc_score(y_test, dt_pred)\n",
    "dt_mcc = matthews_corrcoef(y_test, dt_pred)\n",
    "\n",
    "print(\"Tuned Decision Tree\")\n",
    "print(\"Accuracy Score value: {:.4f}\".format(dt_accuracy))\n",
    "print(\"F1 score: {:.4f}\".format(dt_f1))\n",
    "print(\"Precision: {:.4f}\".format(dt_precision))\n",
    "print(\"Recall: {:.4f}\".format(dt_recall))\n",
    "print(\"ROC AUC score: {:.4f}\".format(dt_roc_auc_score))\n",
    "print(\"Matthews Correlation Coefficient: {:.4f}\".format(dt_mcc))"
   ]
  },
  {
   "cell_type": "code",
   "execution_count": 45,
   "id": "c647b490",
   "metadata": {},
   "outputs": [
    {
     "data": {
      "image/png": "[encoded data removed]",
      "text/plain": [
       "<Figure size 432x288 with 2 Axes>"
      ]
     },
     "metadata": {
      "needs_background": "light"
     },
     "output_type": "display_data"
    }
   ],
   "source": [
    "cm1= confusion_matrix(y_test, dt_pred, labels=dt_best_model.classes_)\n",
    "cm1_display = ConfusionMatrixDisplay(confusion_matrix=cm1, display_labels=dt_best_model.classes_)\n",
    "cm1_display.plot()\n",
    "plt.show()"
   ]
  },
  {
   "cell_type": "code",
   "execution_count": 54,
   "id": "f1e2ec60",
   "metadata": {},
   "outputs": [
    {
     "data": {
      "image/png": "[encoded data removed]",
      "text/plain": [
       "<Figure size 504x504 with 1 Axes>"
      ]
     },
     "metadata": {
      "needs_background": "light"
     },
     "output_type": "display_data"
    }
   ],
   "source": [
    "from sklearn import tree\n",
    "plt.figure(figsize=(7,7))\n",
    "tree.plot_tree(dt_best_model, filled=True, class_names=[str(i) for i in set(y)], feature_names=x_train.columns,\\\n",
    "              rounded=True)\n",
    "plt.savefig(\"ForestFire_DecisionTree_graph\")"
   ]
  },
  {
   "cell_type": "markdown",
   "id": "338ecc31",
   "metadata": {},
   "source": [
    "DecisionTree in sklearn has a function called `cost_complexity_pruning_path`, which gives the `effective alphas` of subtrees during pruning and also the corresponding `impurities`. In other words, we can use these values of alpha to prune our decision tree.\n",
    "\n",
    "It tells the cost complexity if we prune our DT or remove some of the branches. By default ccp_alpha value is zero i.e. it will go on growing and creating branches as long as it is able to divide the dataset. \n",
    "\n",
    "For any subtree T, we will define its complexity as |T~|, the number of terminal or leaf nodes in T. If we keep some value of ccp_alpha as threshold then in this case it will check the cost complexity of each and every branch, if cost complexity is greater than set threshold then it will prune or remove that branch."
   ]
  },
  {
   "cell_type": "code",
   "execution_count": 56,
   "id": "f1cd5bf2",
   "metadata": {},
   "outputs": [
    {
     "data": {
      "text/plain": [
       "array([0.        , 0.00200364, 0.02839578, 0.03046141, 0.04549277,\n",
       "       0.24338113])"
      ]
     },
     "execution_count": 56,
     "metadata": {},
     "output_type": "execute_result"
    }
   ],
   "source": [
    "# We pass training dataset to our ccp\n",
    "path = dt_best_model.cost_complexity_pruning_path(x_train_scaled, y_train)\n",
    "ccp_alpha = path.ccp_alphas\n",
    "ccp_alpha"
   ]
  },
  {
   "cell_type": "markdown",
   "id": "7f8f5bc7",
   "metadata": {},
   "source": [
    "****cost_complexity_pruning_path returns the effective alphas and the corresponding total leaf impurities at each step of the pruning process. As alpha increases, more of the tree is pruned, which increases the total impurity of its leaves.  The last value in ccp_alphas is the alpha value that prunes the whole tree, leaving the tree with one node.****"
   ]
  },
  {
   "cell_type": "code",
   "execution_count": 57,
   "id": "dc24d86f",
   "metadata": {},
   "outputs": [],
   "source": [
    "dt_ccp_models = []\n",
    "for alpha in ccp_alpha:\n",
    "    dt_ccp = DecisionTreeClassifier(ccp_alpha=alpha)\n",
    "    dt_ccp.fit(x_train_scaled,y_train)\n",
    "    dt_ccp_models.append(dt_ccp)"
   ]
  },
  {
   "cell_type": "code",
   "execution_count": 58,
   "id": "7b0470c4",
   "metadata": {
    "scrolled": true
   },
   "outputs": [
    {
     "data": {
      "text/plain": [
       "[DecisionTreeClassifier(),\n",
       " DecisionTreeClassifier(ccp_alpha=0.002003642987249551),\n",
       " DecisionTreeClassifier(ccp_alpha=0.028395784543325527),\n",
       " DecisionTreeClassifier(ccp_alpha=0.030461410941241482),\n",
       " DecisionTreeClassifier(ccp_alpha=0.04549277215827616),\n",
       " DecisionTreeClassifier(ccp_alpha=0.24338113184509863)]"
      ]
     },
     "execution_count": 58,
     "metadata": {},
     "output_type": "execute_result"
    }
   ],
   "source": [
    "# We have built 6 models.\n",
    "dt_ccp_models"
   ]
  },
  {
   "cell_type": "markdown",
   "id": "2d458224",
   "metadata": {},
   "source": [
    "***Greater values of ccp_alpha increase the number of nodes pruned.***"
   ]
  },
  {
   "cell_type": "code",
   "execution_count": 59,
   "id": "98f564f9",
   "metadata": {},
   "outputs": [
    {
     "data": {
      "image/png": "[encoded data removed]",
      "text/plain": [
       "<Figure size 648x504 with 1 Axes>"
      ]
     },
     "metadata": {
      "needs_background": "light"
     },
     "output_type": "display_data"
    }
   ],
   "source": [
    "#I will select the value of ccp_alpha where train & test accuracies are close to each other.\n",
    "train_scores = [i.score(x_train_scaled,y_train) for i in dt_ccp_models]\n",
    "test_scores = [i.score(x_test_scaled,y_test) for i in dt_ccp_models]\n",
    "\n",
    "fig, ax = plt.subplots(figsize=(9,7))\n",
    "ax.set_xlabel(\"alpha\")\n",
    "ax.set_ylabel(\"accuracy\")\n",
    "ax.set_title(\"Accuracy vs alpha for training and testing sets\")\n",
    "ax.plot(ccp_alpha, train_scores, marker='o', label='train', drawstyle='steps-post')\n",
    "ax.plot(ccp_alpha, test_scores, marker = 'o', label='test', drawstyle='steps-post')\n",
    "ax.legend()\n",
    "plt.show()"
   ]
  },
  {
   "cell_type": "code",
   "execution_count": 60,
   "id": "ef9154eb",
   "metadata": {},
   "outputs": [
    {
     "data": {
      "text/plain": [
       "DecisionTreeClassifier(ccp_alpha=0.03, random_state=0)"
      ]
     },
     "execution_count": 60,
     "metadata": {},
     "output_type": "execute_result"
    }
   ],
   "source": [
    "dt_model_ccp = DecisionTreeClassifier(ccp_alpha=0.03, random_state=0)\n",
    "dt_model_ccp.fit(x_train_scaled,y_train)"
   ]
  },
  {
   "cell_type": "code",
   "execution_count": 66,
   "id": "b3ded011",
   "metadata": {},
   "outputs": [
    {
     "data": {
      "text/plain": [
       "[Text(139.5, 285.39, 'ISI <= -0.531\\ngini = 0.492\\nsamples = 183\\nvalue = [80, 103]\\nclass = 1'),\n",
       " Text(69.75, 95.13, 'gini = 0.0\\nsamples = 76\\nvalue = [76, 0]\\nclass = 0'),\n",
       " Text(209.25, 95.13, 'gini = 0.072\\nsamples = 107\\nvalue = [4, 103]\\nclass = 1')]"
      ]
     },
     "execution_count": 66,
     "metadata": {},
     "output_type": "execute_result"
    },
    {
     "data": {
      "image/png": "[encoded data removed]",
      "text/plain": [
       "<Figure size 360x504 with 1 Axes>"
      ]
     },
     "metadata": {
      "needs_background": "light"
     },
     "output_type": "display_data"
    }
   ],
   "source": [
    "plt.figure(figsize=(5,7))\n",
    "tree.plot_tree(dt_model_ccp, filled=True, class_names=[str(i) for i in set(y_train)], feature_names=x_train.columns,\\\n",
    "              rounded=True)"
   ]
  },
  {
   "cell_type": "code",
   "execution_count": 64,
   "id": "7555a9d5",
   "metadata": {},
   "outputs": [
    {
     "data": {
      "text/plain": [
       "0.9781420765027322"
      ]
     },
     "execution_count": 64,
     "metadata": {},
     "output_type": "execute_result"
    }
   ],
   "source": [
    "dt_model_ccp.score(x_train_scaled,y_train)"
   ]
  },
  {
   "cell_type": "code",
   "execution_count": 65,
   "id": "3b8ca28d",
   "metadata": {},
   "outputs": [
    {
     "data": {
      "text/plain": [
       "0.9836065573770492"
      ]
     },
     "execution_count": 65,
     "metadata": {},
     "output_type": "execute_result"
    }
   ],
   "source": [
    "dt_model_ccp.score(x_test_scaled,y_test)"
   ]
  },
  {
   "cell_type": "markdown",
   "id": "966e4f1f",
   "metadata": {},
   "source": [
    "Now our training and testing accuracies are quite close to each other which we were expecting."
   ]
  },
  {
   "cell_type": "markdown",
   "id": "dfd77885",
   "metadata": {},
   "source": [
    "#### Tuning Random Forest Classifier"
   ]
  },
  {
   "cell_type": "code",
   "execution_count": 68,
   "id": "67712755",
   "metadata": {},
   "outputs": [
    {
     "name": "stdout",
     "output_type": "stream",
     "text": [
      "Fitting 10 folds for each of 10 candidates, totalling 100 fits\n"
     ]
    },
    {
     "data": {
      "text/plain": [
       "RandomizedSearchCV(cv=10, estimator=RandomForestClassifier(), n_jobs=-1,\n",
       "                   param_distributions={'criterion': ['gini', 'entropy'],\n",
       "                                        'max_depth': array([ 2,  7, 12, 18, 23, 28, 34, 39, 44, 50]),\n",
       "                                        'max_features': ['auto', 'sqrt',\n",
       "                                                         'log2'],\n",
       "                                        'min_samples_leaf': range(1, 10),\n",
       "                                        'min_samples_split': range(2, 20, 2),\n",
       "                                        'n_estimators': [50, 70, 90, 100, 120,\n",
       "                                                         140, 160]},\n",
       "                   verbose=2)"
      ]
     },
     "execution_count": 68,
     "metadata": {},
     "output_type": "execute_result"
    }
   ],
   "source": [
    "par_grid = {\n",
    "    \"n_estimators\" : [50,70,90,100,120,140,160],\n",
    "    \"criterion\": [\"gini\", \"entropy\"],\n",
    "    \"max_depth\" : np.linspace(2, 50, 10, dtype=int),\n",
    "    \"min_samples_split\": range(2,20,2),                  # min no of samples required to split an internal node\n",
    "    \"min_samples_leaf\" : range(1,10,1),                  # min number of samples required to be at a leaf node\n",
    "    \"max_features\" : [\"auto\",\"sqrt\",\"log2\"]\n",
    "}\n",
    "\n",
    "rf_classifier = RandomForestClassifier()\n",
    "rf_randomcv = RandomizedSearchCV(estimator=rf_classifier, param_distributions=par_grid, cv=10, n_jobs=-1, verbose=2)\n",
    "#rf_gridcv = GridSearchCV(estimator=rf_classifier, param_grid=par_grid, cv=10, n_jobs=-1, verbose=2)\n",
    "rf_randomcv.fit(x_train_scaled, y_train)\n",
    "#rf_gridcv.fit(x_train_scaled, y_train)"
   ]
  },
  {
   "cell_type": "code",
   "execution_count": 69,
   "id": "ad63e696",
   "metadata": {},
   "outputs": [
    {
     "data": {
      "text/plain": [
       "{'n_estimators': 100,\n",
       " 'min_samples_split': 14,\n",
       " 'min_samples_leaf': 6,\n",
       " 'max_features': 'sqrt',\n",
       " 'max_depth': 18,\n",
       " 'criterion': 'entropy'}"
      ]
     },
     "execution_count": 69,
     "metadata": {},
     "output_type": "execute_result"
    }
   ],
   "source": [
    "rf_randomcv.best_params_"
   ]
  },
  {
   "cell_type": "code",
   "execution_count": 70,
   "id": "8a81341a",
   "metadata": {},
   "outputs": [
    {
     "data": {
      "text/plain": [
       "0.9890710382513661"
      ]
     },
     "execution_count": 70,
     "metadata": {},
     "output_type": "execute_result"
    }
   ],
   "source": [
    "# rf_best_model corresponds to randomized searchCV\n",
    "rf_best_model = rf_randomcv.best_estimator_\n",
    "rf_best_model.score(x_train_scaled, y_train)"
   ]
  },
  {
   "cell_type": "code",
   "execution_count": 71,
   "id": "e39df35b",
   "metadata": {},
   "outputs": [
    {
     "data": {
      "text/plain": [
       "1.0"
      ]
     },
     "execution_count": 71,
     "metadata": {},
     "output_type": "execute_result"
    }
   ],
   "source": [
    "rf_best_model.score(x_test_scaled, y_test)"
   ]
  },
  {
   "cell_type": "markdown",
   "id": "9ccdde35",
   "metadata": {},
   "source": [
    "##### Grid SearchCV"
   ]
  },
  {
   "cell_type": "code",
   "execution_count": 46,
   "id": "7c466774",
   "metadata": {
    "scrolled": true
   },
   "outputs": [
    {
     "data": {
      "text/plain": [
       "{'criterion': 'gini',\n",
       " 'max_depth': 2,\n",
       " 'max_features': 'sqrt',\n",
       " 'min_samples_leaf': 3,\n",
       " 'min_samples_split': 10,\n",
       " 'n_estimators': 120}"
      ]
     },
     "execution_count": 46,
     "metadata": {},
     "output_type": "execute_result"
    }
   ],
   "source": [
    "rf_gridcv.best_params_"
   ]
  },
  {
   "cell_type": "code",
   "execution_count": 47,
   "id": "075ded83",
   "metadata": {},
   "outputs": [
    {
     "data": {
      "text/plain": [
       "0.994535519125683"
      ]
     },
     "execution_count": 47,
     "metadata": {},
     "output_type": "execute_result"
    }
   ],
   "source": [
    "# rf_model corresponds to grid searchCV\n",
    "rf_model = rf_gridcv.best_estimator_\n",
    "rf_model.score(x_train_scaled, y_train)"
   ]
  },
  {
   "cell_type": "code",
   "execution_count": 48,
   "id": "a50559e9",
   "metadata": {},
   "outputs": [
    {
     "data": {
      "text/plain": [
       "1.0"
      ]
     },
     "execution_count": 48,
     "metadata": {},
     "output_type": "execute_result"
    }
   ],
   "source": [
    "rf_model.score(x_test_scaled, y_test)"
   ]
  },
  {
   "cell_type": "markdown",
   "id": "294d9aef",
   "metadata": {},
   "source": [
    "Considering rf_best_model for predictions"
   ]
  },
  {
   "cell_type": "code",
   "execution_count": 76,
   "id": "b8d5c615",
   "metadata": {},
   "outputs": [],
   "source": [
    "rf_pred = rf_best_model.predict(x_test_scaled)"
   ]
  },
  {
   "cell_type": "code",
   "execution_count": 77,
   "id": "3416ef81",
   "metadata": {},
   "outputs": [
    {
     "name": "stdout",
     "output_type": "stream",
     "text": [
      "Tuned Random Forest\n",
      "Accuracy Score value: 1.0000\n",
      "F1 score: 1.0000\n",
      "Precision: 1.0000\n",
      "Recall: 1.0000\n",
      "ROC AUC score: 1.0000\n",
      "Matthews Correlation Coefficient: 1.0000\n"
     ]
    }
   ],
   "source": [
    "rf_accuracy = accuracy_score(y_test,rf_pred)\n",
    "rf_f1 = f1_score(y_test, rf_pred)\n",
    "rf_precision = precision_score(y_test,rf_pred)\n",
    "rf_recall = recall_score(y_test, rf_pred)\n",
    "rf_roc_auc_score = roc_auc_score(y_test, rf_pred)\n",
    "rf_mcc = matthews_corrcoef(y_test,rf_pred)\n",
    "\n",
    "print(\"Tuned Random Forest\")\n",
    "print(\"Accuracy Score value: {:.4f}\".format(rf_accuracy))\n",
    "print(\"F1 score: {:.4f}\".format(rf_f1))\n",
    "print(\"Precision: {:.4f}\".format(rf_precision))\n",
    "print(\"Recall: {:.4f}\".format(rf_recall))\n",
    "print(\"ROC AUC score: {:.4f}\".format(rf_roc_auc_score))\n",
    "print(\"Matthews Correlation Coefficient: {:.4f}\".format(rf_mcc))"
   ]
  },
  {
   "cell_type": "code",
   "execution_count": 78,
   "id": "eb652523",
   "metadata": {},
   "outputs": [
    {
     "data": {
      "text/html": [
       "<div>\n",
       "<style scoped>\n",
       "    .dataframe tbody tr th:only-of-type {\n",
       "        vertical-align: middle;\n",
       "    }\n",
       "\n",
       "    .dataframe tbody tr th {\n",
       "        vertical-align: top;\n",
       "    }\n",
       "\n",
       "    .dataframe thead th {\n",
       "        text-align: right;\n",
       "    }\n",
       "</style>\n",
       "<table border=\"1\" class=\"dataframe\">\n",
       "  <thead>\n",
       "    <tr style=\"text-align: right;\">\n",
       "      <th></th>\n",
       "      <th>Actual</th>\n",
       "      <th>pred</th>\n",
       "    </tr>\n",
       "  </thead>\n",
       "  <tbody>\n",
       "  </tbody>\n",
       "</table>\n",
       "</div>"
      ],
      "text/plain": [
       "Empty DataFrame\n",
       "Columns: [Actual, pred]\n",
       "Index: []"
      ]
     },
     "execution_count": 78,
     "metadata": {},
     "output_type": "execute_result"
    }
   ],
   "source": [
    "rf_diff = pd.DataFrame({'Actual': y_test, 'pred': rf_pred})\n",
    "rf_diff[rf_diff['Actual'] != rf_diff['pred']]"
   ]
  },
  {
   "cell_type": "markdown",
   "id": "83a16787",
   "metadata": {},
   "source": [
    "For all the data points in test set the actual and predicted values match. Hence, the score is 1."
   ]
  },
  {
   "cell_type": "code",
   "execution_count": 80,
   "id": "3a71f4b1",
   "metadata": {},
   "outputs": [
    {
     "data": {
      "image/png": "[encoded data removed]",
      "text/plain": [
       "<Figure size 432x288 with 2 Axes>"
      ]
     },
     "metadata": {
      "needs_background": "light"
     },
     "output_type": "display_data"
    }
   ],
   "source": [
    "cm2= confusion_matrix(y_test, rf_pred, labels=dt_best_model.classes_)\n",
    "cm2_display = ConfusionMatrixDisplay(confusion_matrix=cm2, display_labels=dt_best_model.classes_)\n",
    "cm1_display.plot()\n",
    "plt.show()"
   ]
  },
  {
   "cell_type": "markdown",
   "id": "03a8c14e",
   "metadata": {},
   "source": [
    "#### Tuning XGBoost Classifier"
   ]
  },
  {
   "cell_type": "code",
   "execution_count": 100,
   "id": "a8b3bd68",
   "metadata": {},
   "outputs": [],
   "source": [
    "grid_param = {\n",
    "    \"learning_rate\" : np.linspace(0.05,1,100),\n",
    "    \"gamma\" : np.linspace(0,0.5,10),\n",
    "    \"max_depth\" : np.linspace(1, 30, 20, dtype=int),\n",
    "    \"min_child_weight\" : [1, 3, 5, 7, 9, 11],\n",
    "    \"colsample_bytree\" : [0.2, 0.3, 0.5, 0.6, 0.7, 0.8, 0.9],\n",
    "    \"tree_method\" : [\"auto\",\"exact\",\"approx\",\"hist\"],\n",
    "    \"grow_policy\" : ['depthwise', 'lossguide']\n",
    "}\n",
    "\n",
    "xgb_classifier = XGBClassifier()"
   ]
  },
  {
   "cell_type": "code",
   "execution_count": 101,
   "id": "0e371644",
   "metadata": {},
   "outputs": [
    {
     "name": "stdout",
     "output_type": "stream",
     "text": [
      "Fitting 10 folds for each of 5 candidates, totalling 50 fits\n"
     ]
    },
    {
     "data": {
      "text/plain": [
       "RandomizedSearchCV(cv=10,\n",
       "                   estimator=XGBClassifier(base_score=None, booster=None,\n",
       "                                           callbacks=None,\n",
       "                                           colsample_bylevel=None,\n",
       "                                           colsample_bynode=None,\n",
       "                                           colsample_bytree=None,\n",
       "                                           early_stopping_rounds=None,\n",
       "                                           enable_categorical=False,\n",
       "                                           eval_metric=None, gamma=None,\n",
       "                                           gpu_id=None, grow_policy=None,\n",
       "                                           importance_type=None,\n",
       "                                           interaction_constraints=None,\n",
       "                                           learning_rate=None, max_bin=None...\n",
       "       0.81767677, 0.82727273, 0.83686869, 0.84646465, 0.85606061,\n",
       "       0.86565657, 0.87525253, 0.88484848, 0.89444444, 0.9040404 ,\n",
       "       0.91363636, 0.92323232, 0.93282828, 0.94242424, 0.9520202 ,\n",
       "       0.96161616, 0.97121212, 0.98080808, 0.99040404, 1.        ]),\n",
       "                                        'max_depth': array([ 1,  2,  4,  5,  7,  8, 10, 11, 13, 14, 16, 17, 19, 20, 22, 23, 25,\n",
       "       26, 28, 30]),\n",
       "                                        'min_child_weight': [1, 3, 5, 7, 9, 11],\n",
       "                                        'tree_method': ['auto', 'exact',\n",
       "                                                        'approx', 'hist']},\n",
       "                   scoring='roc_auc', verbose=2)"
      ]
     },
     "execution_count": 101,
     "metadata": {},
     "output_type": "execute_result"
    }
   ],
   "source": [
    "xgb_randcv = RandomizedSearchCV(estimator=xgb_classifier, param_distributions=grid_param, n_iter=5, scoring='roc_auc',\\\n",
    "                                cv=10, n_jobs=-1, verbose=2)\n",
    "xgb_randcv.fit(x_train_scaled, y_train)"
   ]
  },
  {
   "cell_type": "code",
   "execution_count": 102,
   "id": "62af1f4e",
   "metadata": {},
   "outputs": [
    {
     "data": {
      "text/plain": [
       "{'tree_method': 'approx',\n",
       " 'min_child_weight': 1,\n",
       " 'max_depth': 30,\n",
       " 'learning_rate': 0.33787878787878783,\n",
       " 'grow_policy': 'lossguide',\n",
       " 'gamma': 0.38888888888888884,\n",
       " 'colsample_bytree': 0.8}"
      ]
     },
     "execution_count": 102,
     "metadata": {},
     "output_type": "execute_result"
    }
   ],
   "source": [
    "xgb_randcv.best_params_"
   ]
  },
  {
   "cell_type": "code",
   "execution_count": 103,
   "id": "7b1f1278",
   "metadata": {},
   "outputs": [
    {
     "data": {
      "text/plain": [
       "0.9890710382513661"
      ]
     },
     "execution_count": 103,
     "metadata": {},
     "output_type": "execute_result"
    }
   ],
   "source": [
    "xgb_best_model = xgb_randcv.best_estimator_\n",
    "xgb_best_model.score(x_train_scaled, y_train)"
   ]
  },
  {
   "cell_type": "code",
   "execution_count": 104,
   "id": "ef0bc0ca",
   "metadata": {},
   "outputs": [
    {
     "data": {
      "text/plain": [
       "1.0"
      ]
     },
     "execution_count": 104,
     "metadata": {},
     "output_type": "execute_result"
    }
   ],
   "source": [
    "xgb_best_model.score(x_test_scaled, y_test)"
   ]
  },
  {
   "cell_type": "code",
   "execution_count": 105,
   "id": "02f371f9",
   "metadata": {},
   "outputs": [],
   "source": [
    "xgb_pred = xgb_best_model.predict(x_test_scaled)"
   ]
  },
  {
   "cell_type": "code",
   "execution_count": 106,
   "id": "2267ff78",
   "metadata": {
    "scrolled": true
   },
   "outputs": [
    {
     "name": "stdout",
     "output_type": "stream",
     "text": [
      "Tuned XGBoost Classifier:\n",
      "Accuracy Score value: 1.0000\n",
      "F1 score: 1.0000\n",
      "Precision: 1.0000\n",
      "Recall: 1.0000\n",
      "ROC AUC score: 1.0000\n",
      "Matthews Correlation Coefficient: 1.0000\n"
     ]
    }
   ],
   "source": [
    "xgb_accuracy = accuracy_score(y_test,xgb_pred)\n",
    "xgb_f1 = f1_score(y_test, xgb_pred)\n",
    "xgb_precision = precision_score(y_test,xgb_pred)\n",
    "xgb_recall = recall_score(y_test, xgb_pred)\n",
    "xgb_roc_auc_score = roc_auc_score(y_test, xgb_pred)\n",
    "xgb_mcc = matthews_corrcoef(y_test,xgb_pred)\n",
    "\n",
    "print(\"Tuned XGBoost Classifier:\")\n",
    "print(\"Accuracy Score value: {:.4f}\".format(xgb_accuracy))\n",
    "print(\"F1 score: {:.4f}\".format(xgb_f1))\n",
    "print(\"Precision: {:.4f}\".format(xgb_precision))\n",
    "print(\"Recall: {:.4f}\".format(xgb_recall))\n",
    "print(\"ROC AUC score: {:.4f}\".format(xgb_roc_auc_score))\n",
    "print(\"Matthews Correlation Coefficient: {:.4f}\".format(xgb_mcc))"
   ]
  },
  {
   "cell_type": "markdown",
   "id": "dd674350",
   "metadata": {},
   "source": [
    "### KFold Techniques"
   ]
  },
  {
   "cell_type": "markdown",
   "id": "3c7f133d",
   "metadata": {},
   "source": [
    "**KFold:** Provides train/test indices to split data in train/test sets. Split dataset into k consecutive folds (without shuffling by default). Each fold is then used once as a validation while the k - 1 remaining folds form the training set.\n",
    "\n",
    "**Stratified KFold:** Each fold will have equal amount of classes, so takes care of imabalanced class distributions. \n",
    "\n",
    "**Repeated Stratified KFold:** Repeats Stratified K-Fold n times with different randomization in each repetition."
   ]
  },
  {
   "cell_type": "code",
   "execution_count": 107,
   "id": "56323014",
   "metadata": {},
   "outputs": [
    {
     "data": {
      "text/plain": [
       "RepeatedStratifiedKFold(n_repeats=5, n_splits=10, random_state=25)"
      ]
     },
     "execution_count": 107,
     "metadata": {},
     "output_type": "execute_result"
    }
   ],
   "source": [
    "from sklearn.model_selection import RepeatedStratifiedKFold\n",
    "rs_kfold = RepeatedStratifiedKFold(n_splits=10, n_repeats=5, random_state=25)\n",
    "rs_kfold"
   ]
  },
  {
   "cell_type": "code",
   "execution_count": 108,
   "id": "72c8a082",
   "metadata": {},
   "outputs": [],
   "source": [
    "def get_score(model, xtrain, xtest, ytrain, ytest):\n",
    "    model.fit(xtrain, ytrain)\n",
    "    return model.score(xtest,ytest)"
   ]
  },
  {
   "cell_type": "code",
   "execution_count": 109,
   "id": "6cc59577",
   "metadata": {},
   "outputs": [
    {
     "name": "stdout",
     "output_type": "stream",
     "text": [
      "Repeated Stratified KFold is applied to get the average scores for different tuned models:\n",
      "Tuned Decision Tree Classifier score: 0.9689333333333333\n",
      "ccp_alpha tuned Decision Tree Classifier score: 0.9705333333333334\n",
      "Tuned Random Forest Classifier score: 0.9796\n",
      "Tuned XGBoost Classifier score: 0.9853\n"
     ]
    }
   ],
   "source": [
    "# no of folds: 244/10 = 24.4, so it will consider 24 or 25 datasets for testing and remaining for training\n",
    "from statistics import mean\n",
    "tdt_score= []\n",
    "tdt_ccp_score= []\n",
    "trf_score = []\n",
    "xgb_score=[]\n",
    "\n",
    "for train_id, test_id in rs_kfold.split(x,y):   #returns an iterator\n",
    "\n",
    "    #print(\"TRAIN:\", train_id, \"TEST:\", test_id)\n",
    "    x_arr = x.to_numpy()\n",
    "    y_arr = y.to_numpy()\n",
    "    x_train_kfold, x_test_kfold, y_train_kfold, y_test_kfold = x_arr[train_id], x_arr[test_id], y_arr[train_id], y_arr[test_id]\n",
    "    \n",
    "    tdt_score.append(get_score(dt_best_model, x_train_kfold, x_test_kfold, y_train_kfold, y_test_kfold))\n",
    "    tdt_ccp_score.append(get_score(dt_model_ccp, x_train_kfold, x_test_kfold, y_train_kfold, y_test_kfold))\n",
    "    trf_score.append(get_score(rf_best_model, x_train_kfold, x_test_kfold, y_train_kfold, y_test_kfold))\n",
    "    xgb_score.append(get_score(xgb_best_model, x_train_kfold, x_test_kfold, y_train_kfold, y_test_kfold))\n",
    "\n",
    "print(\"Repeated Stratified KFold is applied to get the average scores for different tuned models:\")\n",
    "print(f\"Tuned Decision Tree Classifier score: {mean(tdt_score)}\")\n",
    "print(f\"ccp_alpha tuned Decision Tree Classifier score: {mean(tdt_ccp_score)}\")\n",
    "print(f\"Tuned Random Forest Classifier score: {mean(trf_score)}\")\n",
    "print(f\"Tuned XGBoost Classifier score: {mean(xgb_score)}\")\n",
    "#print('='*55)"
   ]
  },
  {
   "cell_type": "code",
   "execution_count": 110,
   "id": "b14aa154",
   "metadata": {},
   "outputs": [],
   "source": [
    "from sklearn.model_selection import cross_val_score\n",
    "\n",
    "def get_cross_val_Score(model, model_name):\n",
    "    \n",
    "    cv_model= cross_val_score(model, x, y, cv=rs_kfold, scoring='accuracy').mean()\n",
    "    print('Cross Validation Score for Tuned {} is {:.4f}'.format(model_name, cv_model))"
   ]
  },
  {
   "cell_type": "code",
   "execution_count": 111,
   "id": "80512c1f",
   "metadata": {},
   "outputs": [
    {
     "name": "stdout",
     "output_type": "stream",
     "text": [
      "Cross Validation Score for Tuned Decision Tree Classifier is 0.9655\n"
     ]
    }
   ],
   "source": [
    "get_cross_val_Score(dt_best_model, \"Decision Tree Classifier\")"
   ]
  },
  {
   "cell_type": "code",
   "execution_count": 112,
   "id": "1cc9b962",
   "metadata": {},
   "outputs": [
    {
     "name": "stdout",
     "output_type": "stream",
     "text": [
      "Cross Validation Score for Tuned ccp_alpha tuned Decision Tree Classifier is 0.9705\n"
     ]
    }
   ],
   "source": [
    "get_cross_val_Score(dt_model_ccp, \"ccp_alpha tuned Decision Tree Classifier\")"
   ]
  },
  {
   "cell_type": "code",
   "execution_count": 113,
   "id": "1de7d6a3",
   "metadata": {},
   "outputs": [
    {
     "name": "stdout",
     "output_type": "stream",
     "text": [
      "Cross Validation Score for Tuned Random Forest Classifier is 0.9820\n"
     ]
    }
   ],
   "source": [
    "get_cross_val_Score(rf_best_model, \"Random Forest Classifier\")"
   ]
  },
  {
   "cell_type": "code",
   "execution_count": 114,
   "id": "2a9e4d5f",
   "metadata": {},
   "outputs": [
    {
     "name": "stdout",
     "output_type": "stream",
     "text": [
      "Cross Validation Score for Tuned XGBoost Classifier is 0.9853\n"
     ]
    }
   ],
   "source": [
    "get_cross_val_Score(xgb_best_model, \"XGBoost Classifier\")"
   ]
  },
  {
   "cell_type": "markdown",
   "id": "a1f9b4c7",
   "metadata": {},
   "source": [
    "### **Score Comparison**\n",
    "\n",
    "| Models     | Accuracy score  |\n",
    "| ----------- | ----------- |\n",
    "|   Logistic Regression   | 98.36 % |\n",
    "| Gaussian NB  | 95.08 % |\n",
    "| K Neighbors Classifier  | 86.89 %|\n",
    "| Support Vector Classifier  | 95.08 %|\n",
    "| Decision Tree Classifier  | 96.55 % |\n",
    "| ccp_alpha tuned Decision Tree Classifier  | 97.05 % |\n",
    "| Random Forest Classifier  | 98.2 %|\n",
    "| XGBoost Classifier  | 98.53 % |"
   ]
  },
  {
   "cell_type": "code",
   "execution_count": 132,
   "id": "beb02188",
   "metadata": {},
   "outputs": [],
   "source": [
    "import bz2,pickle\n",
    "file = bz2.BZ2File('algerian_clf_model.pkl','wb')\n",
    "pickle.dump(xgb_best_model,file)\n",
    "file.close()"
   ]
  },
  {
   "cell_type": "code",
   "execution_count": null,
   "id": "1c41e74c",
   "metadata": {},
   "outputs": [],
   "source": []
  }
 ],
 "metadata": {
  "kernelspec": {
   "display_name": "Python 3",
   "language": "python",
   "name": "python3"
  },
  "language_info": {
   "codemirror_mode": {
    "name": "ipython",
    "version": 3
   },
   "file_extension": ".py",
   "mimetype": "text/x-python",
   "name": "python",
   "nbconvert_exporter": "python",
   "pygments_lexer": "ipython3",
   "version": "3.8.8"
  }
 },
 "nbformat": 4,
 "nbformat_minor": 5
}
